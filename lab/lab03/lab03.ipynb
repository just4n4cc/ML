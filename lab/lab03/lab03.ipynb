{
 "cells": [
  {
   "cell_type": "markdown",
   "source": [
    "<h1>Лабораторная работа №3. Подготовка обучающей и тестовой выборки, кросс-валидация и подбор гиперпараметров на примере метода ближайших соседей.<h1>"
   ],
   "metadata": {
    "collapsed": false,
    "pycharm": {
     "name": "#%% md\n"
    }
   }
  },
  {
   "cell_type": "code",
   "execution_count": 1,
   "outputs": [],
   "source": [
    "import pandas as pd\n",
    "import numpy as np\n",
    "from sklearn.model_selection import train_test_split, GridSearchCV, RandomizedSearchCV\n",
    "from sklearn.neighbors import KNeighborsRegressor\n",
    "from sklearn.preprocessing import MinMaxScaler, StandardScaler\n",
    "from matplotlib import pyplot as plt\n",
    "import seaborn as sns\n",
    "from sklearn.metrics import mean_absolute_error, mean_squared_error, r2_score\n",
    "from warnings import simplefilter\n",
    "\n",
    "simplefilter('ignore')"
   ],
   "metadata": {
    "collapsed": false,
    "pycharm": {
     "name": "#%%\n"
    }
   }
  },
  {
   "cell_type": "code",
   "execution_count": 2,
   "outputs": [
    {
     "data": {
      "text/plain": "   Unnamed: 0                       Track.Name    Artist.Name           Genre  \\\n0           1                         Señorita   Shawn Mendes    canadian pop   \n1           2                            China       Anuel AA  reggaeton flow   \n2           3    boyfriend (with Social House)  Ariana Grande       dance pop   \n3           4  Beautiful People (feat. Khalid)     Ed Sheeran             pop   \n4           5      Goodbyes (Feat. Young Thug)    Post Malone         dfw rap   \n\n   Beats.Per.Minute  Energy  Danceability  Loudness..dB..  Liveness  Valence.  \\\n0               117      55            76              -6         8        75   \n1               105      81            79              -4         8        61   \n2               190      80            40              -4        16        70   \n3                93      65            64              -8         8        55   \n4               150      65            58              -4        11        18   \n\n   Length.  Acousticness..  Speechiness.  Popularity  \n0      191               4             3          79  \n1      302               8             9          92  \n2      186              12            46          85  \n3      198              12            19          86  \n4      175              45             7          94  ",
      "text/html": "<div>\n<style scoped>\n    .dataframe tbody tr th:only-of-type {\n        vertical-align: middle;\n    }\n\n    .dataframe tbody tr th {\n        vertical-align: top;\n    }\n\n    .dataframe thead th {\n        text-align: right;\n    }\n</style>\n<table border=\"1\" class=\"dataframe\">\n  <thead>\n    <tr style=\"text-align: right;\">\n      <th></th>\n      <th>Unnamed: 0</th>\n      <th>Track.Name</th>\n      <th>Artist.Name</th>\n      <th>Genre</th>\n      <th>Beats.Per.Minute</th>\n      <th>Energy</th>\n      <th>Danceability</th>\n      <th>Loudness..dB..</th>\n      <th>Liveness</th>\n      <th>Valence.</th>\n      <th>Length.</th>\n      <th>Acousticness..</th>\n      <th>Speechiness.</th>\n      <th>Popularity</th>\n    </tr>\n  </thead>\n  <tbody>\n    <tr>\n      <th>0</th>\n      <td>1</td>\n      <td>Señorita</td>\n      <td>Shawn Mendes</td>\n      <td>canadian pop</td>\n      <td>117</td>\n      <td>55</td>\n      <td>76</td>\n      <td>-6</td>\n      <td>8</td>\n      <td>75</td>\n      <td>191</td>\n      <td>4</td>\n      <td>3</td>\n      <td>79</td>\n    </tr>\n    <tr>\n      <th>1</th>\n      <td>2</td>\n      <td>China</td>\n      <td>Anuel AA</td>\n      <td>reggaeton flow</td>\n      <td>105</td>\n      <td>81</td>\n      <td>79</td>\n      <td>-4</td>\n      <td>8</td>\n      <td>61</td>\n      <td>302</td>\n      <td>8</td>\n      <td>9</td>\n      <td>92</td>\n    </tr>\n    <tr>\n      <th>2</th>\n      <td>3</td>\n      <td>boyfriend (with Social House)</td>\n      <td>Ariana Grande</td>\n      <td>dance pop</td>\n      <td>190</td>\n      <td>80</td>\n      <td>40</td>\n      <td>-4</td>\n      <td>16</td>\n      <td>70</td>\n      <td>186</td>\n      <td>12</td>\n      <td>46</td>\n      <td>85</td>\n    </tr>\n    <tr>\n      <th>3</th>\n      <td>4</td>\n      <td>Beautiful People (feat. Khalid)</td>\n      <td>Ed Sheeran</td>\n      <td>pop</td>\n      <td>93</td>\n      <td>65</td>\n      <td>64</td>\n      <td>-8</td>\n      <td>8</td>\n      <td>55</td>\n      <td>198</td>\n      <td>12</td>\n      <td>19</td>\n      <td>86</td>\n    </tr>\n    <tr>\n      <th>4</th>\n      <td>5</td>\n      <td>Goodbyes (Feat. Young Thug)</td>\n      <td>Post Malone</td>\n      <td>dfw rap</td>\n      <td>150</td>\n      <td>65</td>\n      <td>58</td>\n      <td>-4</td>\n      <td>11</td>\n      <td>18</td>\n      <td>175</td>\n      <td>45</td>\n      <td>7</td>\n      <td>94</td>\n    </tr>\n  </tbody>\n</table>\n</div>"
     },
     "execution_count": 2,
     "metadata": {},
     "output_type": "execute_result"
    }
   ],
   "source": [
    "df = pd.read_csv('top50.csv', encoding='ISO-8859-1')\n",
    "df.head()"
   ],
   "metadata": {
    "collapsed": false,
    "pycharm": {
     "name": "#%%\n"
    }
   }
  },
  {
   "cell_type": "code",
   "execution_count": 3,
   "outputs": [
    {
     "name": "stdout",
     "output_type": "stream",
     "text": [
      "<class 'pandas.core.frame.DataFrame'>\n",
      "RangeIndex: 50 entries, 0 to 49\n",
      "Data columns (total 14 columns):\n",
      " #   Column            Non-Null Count  Dtype \n",
      "---  ------            --------------  ----- \n",
      " 0   Unnamed: 0        50 non-null     int64 \n",
      " 1   Track.Name        50 non-null     object\n",
      " 2   Artist.Name       50 non-null     object\n",
      " 3   Genre             50 non-null     object\n",
      " 4   Beats.Per.Minute  50 non-null     int64 \n",
      " 5   Energy            50 non-null     int64 \n",
      " 6   Danceability      50 non-null     int64 \n",
      " 7   Loudness..dB..    50 non-null     int64 \n",
      " 8   Liveness          50 non-null     int64 \n",
      " 9   Valence.          50 non-null     int64 \n",
      " 10  Length.           50 non-null     int64 \n",
      " 11  Acousticness..    50 non-null     int64 \n",
      " 12  Speechiness.      50 non-null     int64 \n",
      " 13  Popularity        50 non-null     int64 \n",
      "dtypes: int64(11), object(3)\n",
      "memory usage: 5.6+ KB\n"
     ]
    }
   ],
   "source": [
    "df.info()"
   ],
   "metadata": {
    "collapsed": false,
    "pycharm": {
     "name": "#%%\n"
    }
   }
  },
  {
   "cell_type": "markdown",
   "source": [
    "Подготовка датасета"
   ],
   "metadata": {
    "collapsed": false,
    "pycharm": {
     "name": "#%% md\n"
    }
   }
  },
  {
   "cell_type": "code",
   "execution_count": 4,
   "outputs": [
    {
     "data": {
      "text/plain": "     Artist.Name           Genre  Beats.Per.Minute  Energy  Danceability  \\\n0   Shawn Mendes    canadian pop               117      55            76   \n1       Anuel AA  reggaeton flow               105      81            79   \n2  Ariana Grande       dance pop               190      80            40   \n3     Ed Sheeran             pop                93      65            64   \n4    Post Malone         dfw rap               150      65            58   \n\n   Loudness..dB..  Liveness  Valence.  Length.  Acousticness..  Speechiness.  \\\n0              -6         8        75      191               4             3   \n1              -4         8        61      302               8             9   \n2              -4        16        70      186              12            46   \n3              -8         8        55      198              12            19   \n4              -4        11        18      175              45             7   \n\n   Popularity  \n0          79  \n1          92  \n2          85  \n3          86  \n4          94  ",
      "text/html": "<div>\n<style scoped>\n    .dataframe tbody tr th:only-of-type {\n        vertical-align: middle;\n    }\n\n    .dataframe tbody tr th {\n        vertical-align: top;\n    }\n\n    .dataframe thead th {\n        text-align: right;\n    }\n</style>\n<table border=\"1\" class=\"dataframe\">\n  <thead>\n    <tr style=\"text-align: right;\">\n      <th></th>\n      <th>Artist.Name</th>\n      <th>Genre</th>\n      <th>Beats.Per.Minute</th>\n      <th>Energy</th>\n      <th>Danceability</th>\n      <th>Loudness..dB..</th>\n      <th>Liveness</th>\n      <th>Valence.</th>\n      <th>Length.</th>\n      <th>Acousticness..</th>\n      <th>Speechiness.</th>\n      <th>Popularity</th>\n    </tr>\n  </thead>\n  <tbody>\n    <tr>\n      <th>0</th>\n      <td>Shawn Mendes</td>\n      <td>canadian pop</td>\n      <td>117</td>\n      <td>55</td>\n      <td>76</td>\n      <td>-6</td>\n      <td>8</td>\n      <td>75</td>\n      <td>191</td>\n      <td>4</td>\n      <td>3</td>\n      <td>79</td>\n    </tr>\n    <tr>\n      <th>1</th>\n      <td>Anuel AA</td>\n      <td>reggaeton flow</td>\n      <td>105</td>\n      <td>81</td>\n      <td>79</td>\n      <td>-4</td>\n      <td>8</td>\n      <td>61</td>\n      <td>302</td>\n      <td>8</td>\n      <td>9</td>\n      <td>92</td>\n    </tr>\n    <tr>\n      <th>2</th>\n      <td>Ariana Grande</td>\n      <td>dance pop</td>\n      <td>190</td>\n      <td>80</td>\n      <td>40</td>\n      <td>-4</td>\n      <td>16</td>\n      <td>70</td>\n      <td>186</td>\n      <td>12</td>\n      <td>46</td>\n      <td>85</td>\n    </tr>\n    <tr>\n      <th>3</th>\n      <td>Ed Sheeran</td>\n      <td>pop</td>\n      <td>93</td>\n      <td>65</td>\n      <td>64</td>\n      <td>-8</td>\n      <td>8</td>\n      <td>55</td>\n      <td>198</td>\n      <td>12</td>\n      <td>19</td>\n      <td>86</td>\n    </tr>\n    <tr>\n      <th>4</th>\n      <td>Post Malone</td>\n      <td>dfw rap</td>\n      <td>150</td>\n      <td>65</td>\n      <td>58</td>\n      <td>-4</td>\n      <td>11</td>\n      <td>18</td>\n      <td>175</td>\n      <td>45</td>\n      <td>7</td>\n      <td>94</td>\n    </tr>\n  </tbody>\n</table>\n</div>"
     },
     "execution_count": 4,
     "metadata": {},
     "output_type": "execute_result"
    }
   ],
   "source": [
    "remove_cols = ['Unnamed: 0', 'Track.Name']\n",
    "df.drop(remove_cols, axis=1, inplace=True)\n",
    "df.head()"
   ],
   "metadata": {
    "collapsed": false,
    "pycharm": {
     "name": "#%%\n"
    }
   }
  },
  {
   "cell_type": "code",
   "execution_count": 5,
   "outputs": [
    {
     "name": "stdout",
     "output_type": "stream",
     "text": [
      "Artist.Name: 38/50\n",
      "Genre: 21/50\n"
     ]
    }
   ],
   "source": [
    "# Количество уникальных значений\n",
    "category_cols = ['Artist.Name', 'Genre']\n",
    "for c in category_cols:\n",
    "    print(f'{c}: {df[c].unique().size}/{df[c].shape[0]}')"
   ],
   "metadata": {
    "collapsed": false,
    "pycharm": {
     "name": "#%%\n"
    }
   }
  },
  {
   "cell_type": "code",
   "execution_count": 6,
   "outputs": [
    {
     "data": {
      "text/plain": "   Artist.Name  Genre  Beats.Per.Minute  Energy  Danceability  Loudness..dB..  \\\n0           32      6               117      55            76              -6   \n1            1     19               105      81            79              -4   \n2            2      8               190      80            40              -4   \n3            9     15                93      65            64              -8   \n4           28      9               150      65            58              -4   \n\n   Liveness  Valence.  Length.  Acousticness..  Speechiness.  Popularity  \n0         8        75      191               4             3          79  \n1         8        61      302               8             9          92  \n2        16        70      186              12            46          85  \n3         8        55      198              12            19          86  \n4        11        18      175              45             7          94  ",
      "text/html": "<div>\n<style scoped>\n    .dataframe tbody tr th:only-of-type {\n        vertical-align: middle;\n    }\n\n    .dataframe tbody tr th {\n        vertical-align: top;\n    }\n\n    .dataframe thead th {\n        text-align: right;\n    }\n</style>\n<table border=\"1\" class=\"dataframe\">\n  <thead>\n    <tr style=\"text-align: right;\">\n      <th></th>\n      <th>Artist.Name</th>\n      <th>Genre</th>\n      <th>Beats.Per.Minute</th>\n      <th>Energy</th>\n      <th>Danceability</th>\n      <th>Loudness..dB..</th>\n      <th>Liveness</th>\n      <th>Valence.</th>\n      <th>Length.</th>\n      <th>Acousticness..</th>\n      <th>Speechiness.</th>\n      <th>Popularity</th>\n    </tr>\n  </thead>\n  <tbody>\n    <tr>\n      <th>0</th>\n      <td>32</td>\n      <td>6</td>\n      <td>117</td>\n      <td>55</td>\n      <td>76</td>\n      <td>-6</td>\n      <td>8</td>\n      <td>75</td>\n      <td>191</td>\n      <td>4</td>\n      <td>3</td>\n      <td>79</td>\n    </tr>\n    <tr>\n      <th>1</th>\n      <td>1</td>\n      <td>19</td>\n      <td>105</td>\n      <td>81</td>\n      <td>79</td>\n      <td>-4</td>\n      <td>8</td>\n      <td>61</td>\n      <td>302</td>\n      <td>8</td>\n      <td>9</td>\n      <td>92</td>\n    </tr>\n    <tr>\n      <th>2</th>\n      <td>2</td>\n      <td>8</td>\n      <td>190</td>\n      <td>80</td>\n      <td>40</td>\n      <td>-4</td>\n      <td>16</td>\n      <td>70</td>\n      <td>186</td>\n      <td>12</td>\n      <td>46</td>\n      <td>85</td>\n    </tr>\n    <tr>\n      <th>3</th>\n      <td>9</td>\n      <td>15</td>\n      <td>93</td>\n      <td>65</td>\n      <td>64</td>\n      <td>-8</td>\n      <td>8</td>\n      <td>55</td>\n      <td>198</td>\n      <td>12</td>\n      <td>19</td>\n      <td>86</td>\n    </tr>\n    <tr>\n      <th>4</th>\n      <td>28</td>\n      <td>9</td>\n      <td>150</td>\n      <td>65</td>\n      <td>58</td>\n      <td>-4</td>\n      <td>11</td>\n      <td>18</td>\n      <td>175</td>\n      <td>45</td>\n      <td>7</td>\n      <td>94</td>\n    </tr>\n  </tbody>\n</table>\n</div>"
     },
     "execution_count": 6,
     "metadata": {},
     "output_type": "execute_result"
    }
   ],
   "source": [
    "from sklearn.preprocessing import LabelEncoder, OneHotEncoder\n",
    "le = LabelEncoder()\n",
    "for c in category_cols:\n",
    "    df[c] = le.fit_transform(df[[c]])\n",
    "df.head()"
   ],
   "metadata": {
    "collapsed": false,
    "pycharm": {
     "name": "#%%\n"
    }
   }
  },
  {
   "cell_type": "code",
   "execution_count": 7,
   "outputs": [
    {
     "name": "stdout",
     "output_type": "stream",
     "text": [
      "<class 'pandas.core.frame.DataFrame'>\n",
      "RangeIndex: 50 entries, 0 to 49\n",
      "Data columns (total 12 columns):\n",
      " #   Column            Non-Null Count  Dtype\n",
      "---  ------            --------------  -----\n",
      " 0   Artist.Name       50 non-null     int64\n",
      " 1   Genre             50 non-null     int64\n",
      " 2   Beats.Per.Minute  50 non-null     int64\n",
      " 3   Energy            50 non-null     int64\n",
      " 4   Danceability      50 non-null     int64\n",
      " 5   Loudness..dB..    50 non-null     int64\n",
      " 6   Liveness          50 non-null     int64\n",
      " 7   Valence.          50 non-null     int64\n",
      " 8   Length.           50 non-null     int64\n",
      " 9   Acousticness..    50 non-null     int64\n",
      " 10  Speechiness.      50 non-null     int64\n",
      " 11  Popularity        50 non-null     int64\n",
      "dtypes: int64(12)\n",
      "memory usage: 4.8 KB\n"
     ]
    }
   ],
   "source": [
    "df.info()"
   ],
   "metadata": {
    "collapsed": false,
    "pycharm": {
     "name": "#%%\n"
    }
   }
  },
  {
   "cell_type": "code",
   "execution_count": 8,
   "outputs": [
    {
     "data": {
      "text/plain": "    Artist.Name  Genre  Beats.Per.Minute  Energy  Danceability  \\\n0            32      6               117      55            76   \n1             1     19               105      81            79   \n2             2      8               190      80            40   \n3             9     15                93      65            64   \n4            28      9               150      65            58   \n5             9     15               102      68            80   \n6            20     20               180      64            75   \n7            30     15               111      68            48   \n8            19      7               136      62            88   \n9             4     11               135      43            70   \n10            3     18               176      62            61   \n11            6      8                96      71            82   \n12           18     15               110      41            50   \n13           31     14               176      79            73   \n14            8      5               101      50            83   \n15            5      8                93      45            70   \n16           10     13               176      65            75   \n17           28      9                90      48            76   \n18           36      5               130      39            84   \n19           21     12               158      62            72   \n20           23     16               124      74            68   \n21           19      7               154      59            70   \n22           11     19                92      79            81   \n23           22     13                92      78            80   \n24            4     11               135      45            67   \n25           32      6               124      82            69   \n26           35      1                98      59            82   \n27            0      5                96      46            73   \n28            7     13                94      86            74   \n29           10     13                93      79            64   \n30           34     10                85      51            29   \n31            2      8               140      32            78   \n32           24     18                96      71            78   \n33           37      0                98      59            80   \n34           13      8               100      88            77   \n35           26      2               114      72            66   \n36           31     14               176      70            75   \n37            9     15               152      82            72   \n38           12      3               138      73            84   \n39           17      8                95      56            81   \n40           15     10               104      68            69   \n41           33      8                85      68            77   \n42           16      8                96      39            57   \n43           14     15               136      40            90   \n44           29     17                98      69            88   \n45           25      4                88      62            66   \n46           27     13               176      75            67   \n47           25      4               100      79            69   \n48           34     10               104      70            59   \n49            9     15                95      79            75   \n\n    Loudness..dB..  Liveness  Valence.  Length.  Acousticness..  Speechiness.  \\\n0               -6         8        75      191               4             3   \n1               -4         8        61      302               8             9   \n2               -4        16        70      186              12            46   \n3               -8         8        55      198              12            19   \n4               -4        11        18      175              45             7   \n5               -5         9        84      220               9             4   \n6               -6         7        23      131               2            29   \n7               -5         8        35      202              15             9   \n8               -6        11        64      157               5            10   \n9              -11        10        56      194              33            38   \n10              -5        24        24      251              60            31   \n11              -4        15        38      185              28             7   \n12              -6        11        45      182              75             3   \n13              -2         6        76      288               7            20   \n14              -4        12        10      205              10             5   \n15              -7        16        14      261              12            15   \n16              -6        11        43      243              15            32   \n17              -6         7        91      158              56             5   \n18              -8        14        50      161              18             8   \n19              -3        12        41      173              11            11   \n20              -7         7        63      153               4             3   \n21              -6        12        48      115              34             8   \n22              -4         9        58      309              14             7   \n23              -4        44        80      266              36             4   \n24             -11        12        68      195              25            30   \n25              -4        13        87      191              49             6   \n26              -6        18        54      210              69            10   \n27              -7        19        40      213              37             3   \n28              -3         6        66      193              11             6   \n29              -4        36        94      222               3            25   \n30              -8        10        36      210              12             4   \n31             -11         9        33      179              59            33   \n32              -5         9        68      176              22            28   \n33              -7        13        18      200               2            15   \n34              -5        32        39      224              19             6   \n35              -7        14        32      164              18             6   \n36              -5        11        62      226              14            34   \n37              -5        36        91      162              13             5   \n38              -5        11        95      181               4             6   \n39              -6         6        68      199              48             7   \n40              -7        10        40      228               2             3   \n41              -6         7        73      171               1             5   \n42              -6        23        32      216              37             3   \n43              -9         6        35      198               5            13   \n44              -4         5        75      162              39            12   \n45              -2        58        44      182               7             5   \n46              -4         8        80      202              24             6   \n47              -3        17        67      214              19             5   \n48              -6        41        50      218              23             3   \n49              -6         7        61      206              21            12   \n\n    Popularity  \n0           79  \n1           92  \n2           85  \n3           86  \n4           94  \n5           84  \n6           92  \n7           90  \n8           87  \n9           95  \n10          93  \n11          86  \n12          88  \n13          87  \n14          92  \n15          82  \n16          90  \n17          91  \n18          88  \n19          91  \n20          91  \n21          91  \n22          83  \n23          91  \n24          89  \n25          70  \n26          83  \n27          89  \n28          91  \n29          89  \n30          84  \n31          89  \n32          89  \n33          89  \n34          89  \n35          89  \n36          91  \n37          87  \n38          80  \n39          78  \n40          88  \n41          90  \n42          87  \n43          84  \n44          88  \n45          88  \n46          88  \n47          88  \n48          88  \n49          82  ",
      "text/html": "<div>\n<style scoped>\n    .dataframe tbody tr th:only-of-type {\n        vertical-align: middle;\n    }\n\n    .dataframe tbody tr th {\n        vertical-align: top;\n    }\n\n    .dataframe thead th {\n        text-align: right;\n    }\n</style>\n<table border=\"1\" class=\"dataframe\">\n  <thead>\n    <tr style=\"text-align: right;\">\n      <th></th>\n      <th>Artist.Name</th>\n      <th>Genre</th>\n      <th>Beats.Per.Minute</th>\n      <th>Energy</th>\n      <th>Danceability</th>\n      <th>Loudness..dB..</th>\n      <th>Liveness</th>\n      <th>Valence.</th>\n      <th>Length.</th>\n      <th>Acousticness..</th>\n      <th>Speechiness.</th>\n      <th>Popularity</th>\n    </tr>\n  </thead>\n  <tbody>\n    <tr>\n      <th>0</th>\n      <td>32</td>\n      <td>6</td>\n      <td>117</td>\n      <td>55</td>\n      <td>76</td>\n      <td>-6</td>\n      <td>8</td>\n      <td>75</td>\n      <td>191</td>\n      <td>4</td>\n      <td>3</td>\n      <td>79</td>\n    </tr>\n    <tr>\n      <th>1</th>\n      <td>1</td>\n      <td>19</td>\n      <td>105</td>\n      <td>81</td>\n      <td>79</td>\n      <td>-4</td>\n      <td>8</td>\n      <td>61</td>\n      <td>302</td>\n      <td>8</td>\n      <td>9</td>\n      <td>92</td>\n    </tr>\n    <tr>\n      <th>2</th>\n      <td>2</td>\n      <td>8</td>\n      <td>190</td>\n      <td>80</td>\n      <td>40</td>\n      <td>-4</td>\n      <td>16</td>\n      <td>70</td>\n      <td>186</td>\n      <td>12</td>\n      <td>46</td>\n      <td>85</td>\n    </tr>\n    <tr>\n      <th>3</th>\n      <td>9</td>\n      <td>15</td>\n      <td>93</td>\n      <td>65</td>\n      <td>64</td>\n      <td>-8</td>\n      <td>8</td>\n      <td>55</td>\n      <td>198</td>\n      <td>12</td>\n      <td>19</td>\n      <td>86</td>\n    </tr>\n    <tr>\n      <th>4</th>\n      <td>28</td>\n      <td>9</td>\n      <td>150</td>\n      <td>65</td>\n      <td>58</td>\n      <td>-4</td>\n      <td>11</td>\n      <td>18</td>\n      <td>175</td>\n      <td>45</td>\n      <td>7</td>\n      <td>94</td>\n    </tr>\n    <tr>\n      <th>5</th>\n      <td>9</td>\n      <td>15</td>\n      <td>102</td>\n      <td>68</td>\n      <td>80</td>\n      <td>-5</td>\n      <td>9</td>\n      <td>84</td>\n      <td>220</td>\n      <td>9</td>\n      <td>4</td>\n      <td>84</td>\n    </tr>\n    <tr>\n      <th>6</th>\n      <td>20</td>\n      <td>20</td>\n      <td>180</td>\n      <td>64</td>\n      <td>75</td>\n      <td>-6</td>\n      <td>7</td>\n      <td>23</td>\n      <td>131</td>\n      <td>2</td>\n      <td>29</td>\n      <td>92</td>\n    </tr>\n    <tr>\n      <th>7</th>\n      <td>30</td>\n      <td>15</td>\n      <td>111</td>\n      <td>68</td>\n      <td>48</td>\n      <td>-5</td>\n      <td>8</td>\n      <td>35</td>\n      <td>202</td>\n      <td>15</td>\n      <td>9</td>\n      <td>90</td>\n    </tr>\n    <tr>\n      <th>8</th>\n      <td>19</td>\n      <td>7</td>\n      <td>136</td>\n      <td>62</td>\n      <td>88</td>\n      <td>-6</td>\n      <td>11</td>\n      <td>64</td>\n      <td>157</td>\n      <td>5</td>\n      <td>10</td>\n      <td>87</td>\n    </tr>\n    <tr>\n      <th>9</th>\n      <td>4</td>\n      <td>11</td>\n      <td>135</td>\n      <td>43</td>\n      <td>70</td>\n      <td>-11</td>\n      <td>10</td>\n      <td>56</td>\n      <td>194</td>\n      <td>33</td>\n      <td>38</td>\n      <td>95</td>\n    </tr>\n    <tr>\n      <th>10</th>\n      <td>3</td>\n      <td>18</td>\n      <td>176</td>\n      <td>62</td>\n      <td>61</td>\n      <td>-5</td>\n      <td>24</td>\n      <td>24</td>\n      <td>251</td>\n      <td>60</td>\n      <td>31</td>\n      <td>93</td>\n    </tr>\n    <tr>\n      <th>11</th>\n      <td>6</td>\n      <td>8</td>\n      <td>96</td>\n      <td>71</td>\n      <td>82</td>\n      <td>-4</td>\n      <td>15</td>\n      <td>38</td>\n      <td>185</td>\n      <td>28</td>\n      <td>7</td>\n      <td>86</td>\n    </tr>\n    <tr>\n      <th>12</th>\n      <td>18</td>\n      <td>15</td>\n      <td>110</td>\n      <td>41</td>\n      <td>50</td>\n      <td>-6</td>\n      <td>11</td>\n      <td>45</td>\n      <td>182</td>\n      <td>75</td>\n      <td>3</td>\n      <td>88</td>\n    </tr>\n    <tr>\n      <th>13</th>\n      <td>31</td>\n      <td>14</td>\n      <td>176</td>\n      <td>79</td>\n      <td>73</td>\n      <td>-2</td>\n      <td>6</td>\n      <td>76</td>\n      <td>288</td>\n      <td>7</td>\n      <td>20</td>\n      <td>87</td>\n    </tr>\n    <tr>\n      <th>14</th>\n      <td>8</td>\n      <td>5</td>\n      <td>101</td>\n      <td>50</td>\n      <td>83</td>\n      <td>-4</td>\n      <td>12</td>\n      <td>10</td>\n      <td>205</td>\n      <td>10</td>\n      <td>5</td>\n      <td>92</td>\n    </tr>\n    <tr>\n      <th>15</th>\n      <td>5</td>\n      <td>8</td>\n      <td>93</td>\n      <td>45</td>\n      <td>70</td>\n      <td>-7</td>\n      <td>16</td>\n      <td>14</td>\n      <td>261</td>\n      <td>12</td>\n      <td>15</td>\n      <td>82</td>\n    </tr>\n    <tr>\n      <th>16</th>\n      <td>10</td>\n      <td>13</td>\n      <td>176</td>\n      <td>65</td>\n      <td>75</td>\n      <td>-6</td>\n      <td>11</td>\n      <td>43</td>\n      <td>243</td>\n      <td>15</td>\n      <td>32</td>\n      <td>90</td>\n    </tr>\n    <tr>\n      <th>17</th>\n      <td>28</td>\n      <td>9</td>\n      <td>90</td>\n      <td>48</td>\n      <td>76</td>\n      <td>-6</td>\n      <td>7</td>\n      <td>91</td>\n      <td>158</td>\n      <td>56</td>\n      <td>5</td>\n      <td>91</td>\n    </tr>\n    <tr>\n      <th>18</th>\n      <td>36</td>\n      <td>5</td>\n      <td>130</td>\n      <td>39</td>\n      <td>84</td>\n      <td>-8</td>\n      <td>14</td>\n      <td>50</td>\n      <td>161</td>\n      <td>18</td>\n      <td>8</td>\n      <td>88</td>\n    </tr>\n    <tr>\n      <th>19</th>\n      <td>21</td>\n      <td>12</td>\n      <td>158</td>\n      <td>62</td>\n      <td>72</td>\n      <td>-3</td>\n      <td>12</td>\n      <td>41</td>\n      <td>173</td>\n      <td>11</td>\n      <td>11</td>\n      <td>91</td>\n    </tr>\n    <tr>\n      <th>20</th>\n      <td>23</td>\n      <td>16</td>\n      <td>124</td>\n      <td>74</td>\n      <td>68</td>\n      <td>-7</td>\n      <td>7</td>\n      <td>63</td>\n      <td>153</td>\n      <td>4</td>\n      <td>3</td>\n      <td>91</td>\n    </tr>\n    <tr>\n      <th>21</th>\n      <td>19</td>\n      <td>7</td>\n      <td>154</td>\n      <td>59</td>\n      <td>70</td>\n      <td>-6</td>\n      <td>12</td>\n      <td>48</td>\n      <td>115</td>\n      <td>34</td>\n      <td>8</td>\n      <td>91</td>\n    </tr>\n    <tr>\n      <th>22</th>\n      <td>11</td>\n      <td>19</td>\n      <td>92</td>\n      <td>79</td>\n      <td>81</td>\n      <td>-4</td>\n      <td>9</td>\n      <td>58</td>\n      <td>309</td>\n      <td>14</td>\n      <td>7</td>\n      <td>83</td>\n    </tr>\n    <tr>\n      <th>23</th>\n      <td>22</td>\n      <td>13</td>\n      <td>92</td>\n      <td>78</td>\n      <td>80</td>\n      <td>-4</td>\n      <td>44</td>\n      <td>80</td>\n      <td>266</td>\n      <td>36</td>\n      <td>4</td>\n      <td>91</td>\n    </tr>\n    <tr>\n      <th>24</th>\n      <td>4</td>\n      <td>11</td>\n      <td>135</td>\n      <td>45</td>\n      <td>67</td>\n      <td>-11</td>\n      <td>12</td>\n      <td>68</td>\n      <td>195</td>\n      <td>25</td>\n      <td>30</td>\n      <td>89</td>\n    </tr>\n    <tr>\n      <th>25</th>\n      <td>32</td>\n      <td>6</td>\n      <td>124</td>\n      <td>82</td>\n      <td>69</td>\n      <td>-4</td>\n      <td>13</td>\n      <td>87</td>\n      <td>191</td>\n      <td>49</td>\n      <td>6</td>\n      <td>70</td>\n    </tr>\n    <tr>\n      <th>26</th>\n      <td>35</td>\n      <td>1</td>\n      <td>98</td>\n      <td>59</td>\n      <td>82</td>\n      <td>-6</td>\n      <td>18</td>\n      <td>54</td>\n      <td>210</td>\n      <td>69</td>\n      <td>10</td>\n      <td>83</td>\n    </tr>\n    <tr>\n      <th>27</th>\n      <td>0</td>\n      <td>5</td>\n      <td>96</td>\n      <td>46</td>\n      <td>73</td>\n      <td>-7</td>\n      <td>19</td>\n      <td>40</td>\n      <td>213</td>\n      <td>37</td>\n      <td>3</td>\n      <td>89</td>\n    </tr>\n    <tr>\n      <th>28</th>\n      <td>7</td>\n      <td>13</td>\n      <td>94</td>\n      <td>86</td>\n      <td>74</td>\n      <td>-3</td>\n      <td>6</td>\n      <td>66</td>\n      <td>193</td>\n      <td>11</td>\n      <td>6</td>\n      <td>91</td>\n    </tr>\n    <tr>\n      <th>29</th>\n      <td>10</td>\n      <td>13</td>\n      <td>93</td>\n      <td>79</td>\n      <td>64</td>\n      <td>-4</td>\n      <td>36</td>\n      <td>94</td>\n      <td>222</td>\n      <td>3</td>\n      <td>25</td>\n      <td>89</td>\n    </tr>\n    <tr>\n      <th>30</th>\n      <td>34</td>\n      <td>10</td>\n      <td>85</td>\n      <td>51</td>\n      <td>29</td>\n      <td>-8</td>\n      <td>10</td>\n      <td>36</td>\n      <td>210</td>\n      <td>12</td>\n      <td>4</td>\n      <td>84</td>\n    </tr>\n    <tr>\n      <th>31</th>\n      <td>2</td>\n      <td>8</td>\n      <td>140</td>\n      <td>32</td>\n      <td>78</td>\n      <td>-11</td>\n      <td>9</td>\n      <td>33</td>\n      <td>179</td>\n      <td>59</td>\n      <td>33</td>\n      <td>89</td>\n    </tr>\n    <tr>\n      <th>32</th>\n      <td>24</td>\n      <td>18</td>\n      <td>96</td>\n      <td>71</td>\n      <td>78</td>\n      <td>-5</td>\n      <td>9</td>\n      <td>68</td>\n      <td>176</td>\n      <td>22</td>\n      <td>28</td>\n      <td>89</td>\n    </tr>\n    <tr>\n      <th>33</th>\n      <td>37</td>\n      <td>0</td>\n      <td>98</td>\n      <td>59</td>\n      <td>80</td>\n      <td>-7</td>\n      <td>13</td>\n      <td>18</td>\n      <td>200</td>\n      <td>2</td>\n      <td>15</td>\n      <td>89</td>\n    </tr>\n    <tr>\n      <th>34</th>\n      <td>13</td>\n      <td>8</td>\n      <td>100</td>\n      <td>88</td>\n      <td>77</td>\n      <td>-5</td>\n      <td>32</td>\n      <td>39</td>\n      <td>224</td>\n      <td>19</td>\n      <td>6</td>\n      <td>89</td>\n    </tr>\n    <tr>\n      <th>35</th>\n      <td>26</td>\n      <td>2</td>\n      <td>114</td>\n      <td>72</td>\n      <td>66</td>\n      <td>-7</td>\n      <td>14</td>\n      <td>32</td>\n      <td>164</td>\n      <td>18</td>\n      <td>6</td>\n      <td>89</td>\n    </tr>\n    <tr>\n      <th>36</th>\n      <td>31</td>\n      <td>14</td>\n      <td>176</td>\n      <td>70</td>\n      <td>75</td>\n      <td>-5</td>\n      <td>11</td>\n      <td>62</td>\n      <td>226</td>\n      <td>14</td>\n      <td>34</td>\n      <td>91</td>\n    </tr>\n    <tr>\n      <th>37</th>\n      <td>9</td>\n      <td>15</td>\n      <td>152</td>\n      <td>82</td>\n      <td>72</td>\n      <td>-5</td>\n      <td>36</td>\n      <td>91</td>\n      <td>162</td>\n      <td>13</td>\n      <td>5</td>\n      <td>87</td>\n    </tr>\n    <tr>\n      <th>38</th>\n      <td>12</td>\n      <td>3</td>\n      <td>138</td>\n      <td>73</td>\n      <td>84</td>\n      <td>-5</td>\n      <td>11</td>\n      <td>95</td>\n      <td>181</td>\n      <td>4</td>\n      <td>6</td>\n      <td>80</td>\n    </tr>\n    <tr>\n      <th>39</th>\n      <td>17</td>\n      <td>8</td>\n      <td>95</td>\n      <td>56</td>\n      <td>81</td>\n      <td>-6</td>\n      <td>6</td>\n      <td>68</td>\n      <td>199</td>\n      <td>48</td>\n      <td>7</td>\n      <td>78</td>\n    </tr>\n    <tr>\n      <th>40</th>\n      <td>15</td>\n      <td>10</td>\n      <td>104</td>\n      <td>68</td>\n      <td>69</td>\n      <td>-7</td>\n      <td>10</td>\n      <td>40</td>\n      <td>228</td>\n      <td>2</td>\n      <td>3</td>\n      <td>88</td>\n    </tr>\n    <tr>\n      <th>41</th>\n      <td>33</td>\n      <td>8</td>\n      <td>85</td>\n      <td>68</td>\n      <td>77</td>\n      <td>-6</td>\n      <td>7</td>\n      <td>73</td>\n      <td>171</td>\n      <td>1</td>\n      <td>5</td>\n      <td>90</td>\n    </tr>\n    <tr>\n      <th>42</th>\n      <td>16</td>\n      <td>8</td>\n      <td>96</td>\n      <td>39</td>\n      <td>57</td>\n      <td>-6</td>\n      <td>23</td>\n      <td>32</td>\n      <td>216</td>\n      <td>37</td>\n      <td>3</td>\n      <td>87</td>\n    </tr>\n    <tr>\n      <th>43</th>\n      <td>14</td>\n      <td>15</td>\n      <td>136</td>\n      <td>40</td>\n      <td>90</td>\n      <td>-9</td>\n      <td>6</td>\n      <td>35</td>\n      <td>198</td>\n      <td>5</td>\n      <td>13</td>\n      <td>84</td>\n    </tr>\n    <tr>\n      <th>44</th>\n      <td>29</td>\n      <td>17</td>\n      <td>98</td>\n      <td>69</td>\n      <td>88</td>\n      <td>-4</td>\n      <td>5</td>\n      <td>75</td>\n      <td>162</td>\n      <td>39</td>\n      <td>12</td>\n      <td>88</td>\n    </tr>\n    <tr>\n      <th>45</th>\n      <td>25</td>\n      <td>4</td>\n      <td>88</td>\n      <td>62</td>\n      <td>66</td>\n      <td>-2</td>\n      <td>58</td>\n      <td>44</td>\n      <td>182</td>\n      <td>7</td>\n      <td>5</td>\n      <td>88</td>\n    </tr>\n    <tr>\n      <th>46</th>\n      <td>27</td>\n      <td>13</td>\n      <td>176</td>\n      <td>75</td>\n      <td>67</td>\n      <td>-4</td>\n      <td>8</td>\n      <td>80</td>\n      <td>202</td>\n      <td>24</td>\n      <td>6</td>\n      <td>88</td>\n    </tr>\n    <tr>\n      <th>47</th>\n      <td>25</td>\n      <td>4</td>\n      <td>100</td>\n      <td>79</td>\n      <td>69</td>\n      <td>-3</td>\n      <td>17</td>\n      <td>67</td>\n      <td>214</td>\n      <td>19</td>\n      <td>5</td>\n      <td>88</td>\n    </tr>\n    <tr>\n      <th>48</th>\n      <td>34</td>\n      <td>10</td>\n      <td>104</td>\n      <td>70</td>\n      <td>59</td>\n      <td>-6</td>\n      <td>41</td>\n      <td>50</td>\n      <td>218</td>\n      <td>23</td>\n      <td>3</td>\n      <td>88</td>\n    </tr>\n    <tr>\n      <th>49</th>\n      <td>9</td>\n      <td>15</td>\n      <td>95</td>\n      <td>79</td>\n      <td>75</td>\n      <td>-6</td>\n      <td>7</td>\n      <td>61</td>\n      <td>206</td>\n      <td>21</td>\n      <td>12</td>\n      <td>82</td>\n    </tr>\n  </tbody>\n</table>\n</div>"
     },
     "execution_count": 8,
     "metadata": {},
     "output_type": "execute_result"
    }
   ],
   "source": [
    "df.dropna()"
   ],
   "metadata": {
    "collapsed": false,
    "pycharm": {
     "name": "#%%\n"
    }
   }
  },
  {
   "cell_type": "markdown",
   "source": [
    "Видим, что в датасете нет пропусков. Выделим целевой признак."
   ],
   "metadata": {
    "collapsed": false,
    "pycharm": {
     "name": "#%% md\n"
    }
   }
  },
  {
   "cell_type": "code",
   "execution_count": 9,
   "outputs": [],
   "source": [
    "target_col = 'Popularity'\n",
    "y = df[target_col]\n",
    "x = df.drop(target_col, axis=1)"
   ],
   "metadata": {
    "collapsed": false,
    "pycharm": {
     "name": "#%%\n"
    }
   }
  },
  {
   "cell_type": "markdown",
   "source": [
    "Разделим выборку на тестовую и обучающую."
   ],
   "metadata": {
    "collapsed": false,
    "pycharm": {
     "name": "#%% md\n"
    }
   }
  },
  {
   "cell_type": "code",
   "execution_count": 10,
   "outputs": [],
   "source": [
    "x_train, x_test, y_train, y_test = train_test_split(x, y, test_size=0.3, random_state=3)"
   ],
   "metadata": {
    "collapsed": false,
    "pycharm": {
     "name": "#%%\n"
    }
   }
  },
  {
   "cell_type": "markdown",
   "source": [
    "Обучение методом k ближайших соседей с произвольным k"
   ],
   "metadata": {
    "collapsed": false,
    "pycharm": {
     "name": "#%% md\n"
    }
   }
  },
  {
   "cell_type": "code",
   "execution_count": 11,
   "outputs": [],
   "source": [
    "def print_metric(y_test, y_pred):\n",
    "    print(f\"R^2_score: {r2_score(y_test, y_pred)}\")\n",
    "    print(f\"MSE: {mean_squared_error(y_test, y_pred)}\")\n",
    "    print(f\"MAE: {mean_absolute_error(y_test, y_pred)}\")\n",
    "\n",
    "def print_cv_result(cv_model, x_test, y_test):\n",
    "    print(f'Оптимизация метрики {cv_model.scoring}: {cv_model.best_score_}')\n",
    "    print(f'Лучший параметр: {cv_model.best_params_}')\n",
    "    print('Метрики на тестовом наборе')\n",
    "    print_metric(y_test, cv_model.predict(x_test))\n",
    "    print()"
   ],
   "metadata": {
    "collapsed": false,
    "pycharm": {
     "name": "#%%\n"
    }
   }
  },
  {
   "cell_type": "markdown",
   "source": [
    "Возьмем k = 5"
   ],
   "metadata": {
    "collapsed": false,
    "pycharm": {
     "name": "#%% md\n"
    }
   }
  },
  {
   "cell_type": "code",
   "execution_count": 12,
   "outputs": [
    {
     "name": "stdout",
     "output_type": "stream",
     "text": [
      "R^2_score: 0.01166666666666738\n",
      "MSE: 14.23199999999999\n",
      "MAE: 2.8666666666666667\n"
     ]
    }
   ],
   "source": [
    "k = 5\n",
    "regr_k = KNeighborsRegressor(n_neighbors=k)\n",
    "regr_k.fit(x_train, y_train)\n",
    "y_pred_base = regr_k.predict(x_test)\n",
    "print_metric(y_test, y_pred_base)"
   ],
   "metadata": {
    "collapsed": false,
    "pycharm": {
     "name": "#%%\n"
    }
   }
  },
  {
   "cell_type": "markdown",
   "source": [
    "Кросс-валидация"
   ],
   "metadata": {
    "collapsed": false,
    "pycharm": {
     "name": "#%% md\n"
    }
   }
  },
  {
   "cell_type": "code",
   "execution_count": 13,
   "outputs": [
    {
     "name": "stdout",
     "output_type": "stream",
     "text": [
      "========== cv = 5 ==========\n",
      "Оптимизация метрики r2: -0.09166418969860927\n",
      "Лучший параметр: {'n_neighbors': 12}\n",
      "Метрики на тестовом наборе\n",
      "R^2_score: -0.17959104938271642\n",
      "MSE: 16.986111111111118\n",
      "MAE: 3.355555555555556\n",
      "\n",
      "Оптимизация метрики neg_mean_squared_error: -20.255142857142857\n",
      "Лучший параметр: {'n_neighbors': 10}\n",
      "Метрики на тестовом наборе\n",
      "R^2_score: -0.27518518518518476\n",
      "MSE: 18.36266666666666\n",
      "MAE: 3.4399999999999995\n",
      "\n",
      "Оптимизация метрики neg_mean_absolute_error: -3.5417989417989424\n",
      "Лучший параметр: {'n_neighbors': 27}\n",
      "Метрики на тестовом наборе\n",
      "R^2_score: -0.3805568256871408\n",
      "MSE: 19.880018289894828\n",
      "MAE: 3.5604938271604927\n",
      "\n",
      "========== cv = 10 ==========\n",
      "Оптимизация метрики r2: -2.82847213570181\n",
      "Лучший параметр: {'n_neighbors': 5}\n",
      "Метрики на тестовом наборе\n",
      "R^2_score: 0.01166666666666738\n",
      "MSE: 14.23199999999999\n",
      "MAE: 2.8666666666666667\n",
      "\n",
      "Оптимизация метрики neg_mean_squared_error: -18.14233333333333\n",
      "Лучший параметр: {'n_neighbors': 5}\n",
      "Метрики на тестовом наборе\n",
      "R^2_score: 0.01166666666666738\n",
      "MSE: 14.23199999999999\n",
      "MAE: 2.8666666666666667\n",
      "\n",
      "Оптимизация метрики neg_mean_absolute_error: -3.3729166666666663\n",
      "Лучший параметр: {'n_neighbors': 4}\n",
      "Метрики на тестовом наборе\n",
      "R^2_score: 0.06452546296296291\n",
      "MSE: 13.470833333333333\n",
      "MAE: 2.783333333333333\n",
      "\n"
     ]
    }
   ],
   "source": [
    "metrics = ['r2', 'neg_mean_squared_error', 'neg_mean_absolute_error']\n",
    "cv_values = [5, 10]\n",
    "\n",
    "for cv in cv_values:\n",
    "    print('========== cv = {} =========='.format(cv))\n",
    "    for metric in metrics:\n",
    "        params = {'n_neighbors': range(1, 30)}\n",
    "        knn_cv = GridSearchCV(KNeighborsRegressor(), params, cv=cv, scoring=metric, n_jobs=-1)\n",
    "        knn_cv.fit(x_train, y_train)\n",
    "        print_cv_result(knn_cv, x_test, y_test)"
   ],
   "metadata": {
    "collapsed": false,
    "pycharm": {
     "name": "#%%\n"
    }
   }
  },
  {
   "cell_type": "code",
   "execution_count": 14,
   "outputs": [],
   "source": [
    "best_k = 4\n",
    "y_pred_best = KNeighborsRegressor(n_neighbors=best_k).fit(x_train, y_train).predict(x_test)"
   ],
   "metadata": {
    "collapsed": false,
    "pycharm": {
     "name": "#%%\n"
    }
   }
  },
  {
   "cell_type": "markdown",
   "source": [
    "Сравним исходную и оптимальную модели"
   ],
   "metadata": {
    "collapsed": false,
    "pycharm": {
     "name": "#%% md\n"
    }
   }
  },
  {
   "cell_type": "code",
   "execution_count": 15,
   "outputs": [
    {
     "name": "stdout",
     "output_type": "stream",
     "text": [
      "Basic model\n",
      "R^2_score: 0.01166666666666738\n",
      "MSE: 14.23199999999999\n",
      "MAE: 2.8666666666666667\n",
      "==========================\n",
      "Optimal model\n",
      "R^2_score: 0.06452546296296291\n",
      "MSE: 13.470833333333333\n",
      "MAE: 2.783333333333333\n"
     ]
    }
   ],
   "source": [
    "print('Basic model')\n",
    "print_metric(y_test, y_pred_base)\n",
    "print('==========================')\n",
    "print('Optimal model')\n",
    "print_metric(y_test, y_pred_best)"
   ],
   "metadata": {
    "collapsed": false,
    "pycharm": {
     "name": "#%%\n"
    }
   }
  }
 ],
 "metadata": {
  "kernelspec": {
   "display_name": "Python 3",
   "language": "python",
   "name": "python3"
  },
  "language_info": {
   "codemirror_mode": {
    "name": "ipython",
    "version": 2
   },
   "file_extension": ".py",
   "mimetype": "text/x-python",
   "name": "python",
   "nbconvert_exporter": "python",
   "pygments_lexer": "ipython2",
   "version": "2.7.6"
  }
 },
 "nbformat": 4,
 "nbformat_minor": 0
}