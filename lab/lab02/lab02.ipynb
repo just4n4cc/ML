{
 "cells": [
  {
   "cell_type": "markdown",
   "source": [
    "<h1>Лабораторная работа №2. Обработка пропусков данных, кодирование категориальных признаков, масштабирование данных.<h1>\n",
    "<h2>1) Обработка пропусков данных<h2>"
   ],
   "metadata": {
    "collapsed": false,
    "pycharm": {
     "name": "#%% md\n"
    }
   }
  },
  {
   "cell_type": "code",
   "execution_count": 1,
   "outputs": [],
   "source": [
    "import pandas as pd\n",
    "import matplotlib.pyplot as plt\n",
    "import numpy as np\n",
    "import seaborn as sns\n",
    "sns.set(style=\"darkgrid\")"
   ],
   "metadata": {
    "collapsed": false,
    "pycharm": {
     "name": "#%%\n"
    }
   }
  },
  {
   "cell_type": "code",
   "execution_count": 2,
   "outputs": [],
   "source": [
    "# df = pd.read_csv('states_all.csv')\n",
    "df = pd.read_csv('characters_tv.csv')\n",
    "# df = pd.read_csv('dc-wikia-data.csv')\n",
    "# df = pd.read_csv('HRDataset_v14.csv')\n",
    "# df = pd.read_csv('FIFA 2018 Statistics.csv')"
   ],
   "metadata": {
    "collapsed": false,
    "pycharm": {
     "name": "#%%\n"
    }
   }
  },
  {
   "cell_type": "code",
   "execution_count": 3,
   "outputs": [
    {
     "data": {
      "text/plain": "   index              name    birthday           title     characterName  \\\n0      0         Ben Platt  09/24/1993  The Politician     Payton Hobart   \n1      1       Zoey Deutch  11/10/1994  The Politician  Infinity Jackson   \n2      2      Lucy Boynton  01/17/1994  The Politician      Astrid Sloan   \n3      3  Julia Schlaepfer  03/03/1995  The Politician     Alice Charles   \n4      4    Laura Dreyfuss  08/22/1988  The Politician  McAfee Westbrook   \n\n  characterYear  characterAge characterGender  \\\n0     hs senior           NaN               M   \n1     hs senior           NaN               F   \n2     hs senior           NaN               F   \n3     hs senior           NaN               F   \n4     hs senior           NaN               F   \n\n                                   loveInterest  \n0  Alice Charles, Astrid Sloan, River Barkley\\r  \n1                                           NaN  \n2                Payton Hobart, River Barkley\\r  \n3               Payton Hobart, James Sullivan\\r  \n4                                 Skye Leighton  ",
      "text/html": "<div>\n<style scoped>\n    .dataframe tbody tr th:only-of-type {\n        vertical-align: middle;\n    }\n\n    .dataframe tbody tr th {\n        vertical-align: top;\n    }\n\n    .dataframe thead th {\n        text-align: right;\n    }\n</style>\n<table border=\"1\" class=\"dataframe\">\n  <thead>\n    <tr style=\"text-align: right;\">\n      <th></th>\n      <th>index</th>\n      <th>name</th>\n      <th>birthday</th>\n      <th>title</th>\n      <th>characterName</th>\n      <th>characterYear</th>\n      <th>characterAge</th>\n      <th>characterGender</th>\n      <th>loveInterest</th>\n    </tr>\n  </thead>\n  <tbody>\n    <tr>\n      <th>0</th>\n      <td>0</td>\n      <td>Ben Platt</td>\n      <td>09/24/1993</td>\n      <td>The Politician</td>\n      <td>Payton Hobart</td>\n      <td>hs senior</td>\n      <td>NaN</td>\n      <td>M</td>\n      <td>Alice Charles, Astrid Sloan, River Barkley\\r</td>\n    </tr>\n    <tr>\n      <th>1</th>\n      <td>1</td>\n      <td>Zoey Deutch</td>\n      <td>11/10/1994</td>\n      <td>The Politician</td>\n      <td>Infinity Jackson</td>\n      <td>hs senior</td>\n      <td>NaN</td>\n      <td>F</td>\n      <td>NaN</td>\n    </tr>\n    <tr>\n      <th>2</th>\n      <td>2</td>\n      <td>Lucy Boynton</td>\n      <td>01/17/1994</td>\n      <td>The Politician</td>\n      <td>Astrid Sloan</td>\n      <td>hs senior</td>\n      <td>NaN</td>\n      <td>F</td>\n      <td>Payton Hobart, River Barkley\\r</td>\n    </tr>\n    <tr>\n      <th>3</th>\n      <td>3</td>\n      <td>Julia Schlaepfer</td>\n      <td>03/03/1995</td>\n      <td>The Politician</td>\n      <td>Alice Charles</td>\n      <td>hs senior</td>\n      <td>NaN</td>\n      <td>F</td>\n      <td>Payton Hobart, James Sullivan\\r</td>\n    </tr>\n    <tr>\n      <th>4</th>\n      <td>4</td>\n      <td>Laura Dreyfuss</td>\n      <td>08/22/1988</td>\n      <td>The Politician</td>\n      <td>McAfee Westbrook</td>\n      <td>hs senior</td>\n      <td>NaN</td>\n      <td>F</td>\n      <td>Skye Leighton</td>\n    </tr>\n  </tbody>\n</table>\n</div>"
     },
     "execution_count": 3,
     "metadata": {},
     "output_type": "execute_result"
    }
   ],
   "source": [
    "df.head()"
   ],
   "metadata": {
    "collapsed": false,
    "pycharm": {
     "name": "#%%\n"
    }
   }
  },
  {
   "cell_type": "code",
   "execution_count": 4,
   "outputs": [
    {
     "data": {
      "text/plain": "(243, 9)"
     },
     "execution_count": 4,
     "metadata": {},
     "output_type": "execute_result"
    }
   ],
   "source": [
    "df.shape"
   ],
   "metadata": {
    "collapsed": false,
    "pycharm": {
     "name": "#%%\n"
    }
   }
  },
  {
   "cell_type": "code",
   "execution_count": 5,
   "outputs": [
    {
     "data": {
      "text/plain": "index                int64\nname                object\nbirthday            object\ntitle               object\ncharacterName       object\ncharacterYear       object\ncharacterAge       float64\ncharacterGender     object\nloveInterest        object\ndtype: object"
     },
     "execution_count": 5,
     "metadata": {},
     "output_type": "execute_result"
    }
   ],
   "source": [
    "df.dtypes"
   ],
   "metadata": {
    "collapsed": false,
    "pycharm": {
     "name": "#%%\n"
    }
   }
  },
  {
   "cell_type": "code",
   "execution_count": 6,
   "outputs": [
    {
     "name": "stdout",
     "output_type": "stream",
     "text": [
      "['index' 'characterAge']\n"
     ]
    }
   ],
   "source": [
    "# отбор числовых колонок\n",
    "df_num = df.select_dtypes(include=[np.number])\n",
    "num_cols = df_num.columns.values\n",
    "print(num_cols)"
   ],
   "metadata": {
    "collapsed": false,
    "pycharm": {
     "name": "#%%\n"
    }
   }
  },
  {
   "cell_type": "code",
   "execution_count": 7,
   "outputs": [
    {
     "name": "stdout",
     "output_type": "stream",
     "text": [
      "['name' 'birthday' 'title' 'characterName' 'characterYear'\n",
      " 'characterGender' 'loveInterest']\n"
     ]
    }
   ],
   "source": [
    "# отбор нечисловых колонок\n",
    "df_non_num = df.select_dtypes(exclude=[np.number])\n",
    "non_num_cols = df_non_num.columns.values\n",
    "print(non_num_cols)"
   ],
   "metadata": {
    "collapsed": false,
    "pycharm": {
     "name": "#%%\n"
    }
   }
  },
  {
   "cell_type": "code",
   "execution_count": 8,
   "outputs": [
    {
     "name": "stdout",
     "output_type": "stream",
     "text": [
      "index - 0%\n",
      "name - 0%\n",
      "birthday - 7%\n",
      "title - 0%\n",
      "characterName - 0%\n",
      "characterYear - 54%\n",
      "characterAge - 46%\n",
      "characterGender - 0%\n",
      "loveInterest - 46%\n"
     ]
    }
   ],
   "source": [
    "def print_missing_stat():\n",
    "    for c in df.columns:\n",
    "        pct_missing = np.mean(df[c].isnull())\n",
    "        print('{} - {}%'.format(c, round(pct_missing * 100)))\n",
    "print_missing_stat()"
   ],
   "metadata": {
    "collapsed": false,
    "pycharm": {
     "name": "#%%\n"
    }
   }
  },
  {
   "cell_type": "code",
   "execution_count": 9,
   "outputs": [
    {
     "name": "stdout",
     "output_type": "stream",
     "text": [
      "Столбец birthday. Тип данных: object. Пустых значений 16 из 243\n",
      "Столбец characterYear. Тип данных: object. Пустых значений 132 из 243\n",
      "Столбец characterAge. Тип данных: float64. Пустых значений 112 из 243\n",
      "Столбец loveInterest. Тип данных: object. Пустых значений 111 из 243\n"
     ]
    }
   ],
   "source": [
    "# Выберем числовые колонки с пропущенными значениями\n",
    "num_miss_cols = []\n",
    "for c in df.columns:\n",
    "    temp_count = df[df[c].isnull()].shape[0]\n",
    "    dt = str(df[c].dtype)\n",
    "    if temp_count > 0 and (dt == 'float64' or dt == 'int64' or dt == 'object'):\n",
    "        num_miss_cols.append(c)\n",
    "        print('Столбец {}. Тип данных: {}. Пустых значений {} из {}'.format(c, dt, temp_count, df[c].shape[0]))"
   ],
   "metadata": {
    "collapsed": false,
    "pycharm": {
     "name": "#%%\n"
    }
   }
  },
  {
   "cell_type": "markdown",
   "source": [
    "Для нечисловых признаков, заменим пропуски на ```_MISSING_```.\n",
    "Для числовых признаков, заменим пропуски на ```-999```."
   ],
   "metadata": {
    "collapsed": false,
    "pycharm": {
     "name": "#%% md\n"
    }
   }
  },
  {
   "cell_type": "code",
   "execution_count": 10,
   "outputs": [],
   "source": [
    "for c in df.columns:\n",
    "    if c in df_num:\n",
    "        df[c] = df[c].fillna(-999)\n",
    "    else:\n",
    "        df[c] = df[c].fillna('__MISSING__')"
   ],
   "metadata": {
    "collapsed": false,
    "pycharm": {
     "name": "#%%\n"
    }
   }
  },
  {
   "cell_type": "code",
   "execution_count": 11,
   "outputs": [
    {
     "name": "stdout",
     "output_type": "stream",
     "text": [
      "index - 0%\n",
      "name - 0%\n",
      "birthday - 0%\n",
      "title - 0%\n",
      "characterName - 0%\n",
      "characterYear - 0%\n",
      "characterAge - 0%\n",
      "characterGender - 0%\n",
      "loveInterest - 0%\n"
     ]
    }
   ],
   "source": [
    "print_missing_stat()"
   ],
   "metadata": {
    "collapsed": false,
    "pycharm": {
     "name": "#%%\n"
    }
   }
  },
  {
   "cell_type": "markdown",
   "source": [
    "<h2>2) Кодирование категориальных признаков <h2>"
   ],
   "metadata": {
    "collapsed": false,
    "pycharm": {
     "name": "#%% md\n"
    }
   }
  },
  {
   "cell_type": "code",
   "execution_count": 12,
   "outputs": [
    {
     "data": {
      "text/plain": "   index              name    birthday           title     characterName  \\\n0      0         Ben Platt  09/24/1993  The Politician     Payton Hobart   \n1      1       Zoey Deutch  11/10/1994  The Politician  Infinity Jackson   \n2      2      Lucy Boynton  01/17/1994  The Politician      Astrid Sloan   \n3      3  Julia Schlaepfer  03/03/1995  The Politician     Alice Charles   \n4      4    Laura Dreyfuss  08/22/1988  The Politician  McAfee Westbrook   \n\n  characterYear  characterAge characterGender  \\\n0     hs senior        -999.0               M   \n1     hs senior        -999.0               F   \n2     hs senior        -999.0               F   \n3     hs senior        -999.0               F   \n4     hs senior        -999.0               F   \n\n                                   loveInterest  \n0  Alice Charles, Astrid Sloan, River Barkley\\r  \n1                                   __MISSING__  \n2                Payton Hobart, River Barkley\\r  \n3               Payton Hobart, James Sullivan\\r  \n4                                 Skye Leighton  ",
      "text/html": "<div>\n<style scoped>\n    .dataframe tbody tr th:only-of-type {\n        vertical-align: middle;\n    }\n\n    .dataframe tbody tr th {\n        vertical-align: top;\n    }\n\n    .dataframe thead th {\n        text-align: right;\n    }\n</style>\n<table border=\"1\" class=\"dataframe\">\n  <thead>\n    <tr style=\"text-align: right;\">\n      <th></th>\n      <th>index</th>\n      <th>name</th>\n      <th>birthday</th>\n      <th>title</th>\n      <th>characterName</th>\n      <th>characterYear</th>\n      <th>characterAge</th>\n      <th>characterGender</th>\n      <th>loveInterest</th>\n    </tr>\n  </thead>\n  <tbody>\n    <tr>\n      <th>0</th>\n      <td>0</td>\n      <td>Ben Platt</td>\n      <td>09/24/1993</td>\n      <td>The Politician</td>\n      <td>Payton Hobart</td>\n      <td>hs senior</td>\n      <td>-999.0</td>\n      <td>M</td>\n      <td>Alice Charles, Astrid Sloan, River Barkley\\r</td>\n    </tr>\n    <tr>\n      <th>1</th>\n      <td>1</td>\n      <td>Zoey Deutch</td>\n      <td>11/10/1994</td>\n      <td>The Politician</td>\n      <td>Infinity Jackson</td>\n      <td>hs senior</td>\n      <td>-999.0</td>\n      <td>F</td>\n      <td>__MISSING__</td>\n    </tr>\n    <tr>\n      <th>2</th>\n      <td>2</td>\n      <td>Lucy Boynton</td>\n      <td>01/17/1994</td>\n      <td>The Politician</td>\n      <td>Astrid Sloan</td>\n      <td>hs senior</td>\n      <td>-999.0</td>\n      <td>F</td>\n      <td>Payton Hobart, River Barkley\\r</td>\n    </tr>\n    <tr>\n      <th>3</th>\n      <td>3</td>\n      <td>Julia Schlaepfer</td>\n      <td>03/03/1995</td>\n      <td>The Politician</td>\n      <td>Alice Charles</td>\n      <td>hs senior</td>\n      <td>-999.0</td>\n      <td>F</td>\n      <td>Payton Hobart, James Sullivan\\r</td>\n    </tr>\n    <tr>\n      <th>4</th>\n      <td>4</td>\n      <td>Laura Dreyfuss</td>\n      <td>08/22/1988</td>\n      <td>The Politician</td>\n      <td>McAfee Westbrook</td>\n      <td>hs senior</td>\n      <td>-999.0</td>\n      <td>F</td>\n      <td>Skye Leighton</td>\n    </tr>\n  </tbody>\n</table>\n</div>"
     },
     "execution_count": 12,
     "metadata": {},
     "output_type": "execute_result"
    }
   ],
   "source": [
    "df.head()"
   ],
   "metadata": {
    "collapsed": false,
    "pycharm": {
     "name": "#%%\n"
    }
   }
  },
  {
   "cell_type": "code",
   "execution_count": 13,
   "outputs": [
    {
     "name": "stdout",
     "output_type": "stream",
     "text": [
      "<class 'pandas.core.frame.DataFrame'>\n",
      "RangeIndex: 243 entries, 0 to 242\n",
      "Data columns (total 9 columns):\n",
      " #   Column           Non-Null Count  Dtype  \n",
      "---  ------           --------------  -----  \n",
      " 0   index            243 non-null    int64  \n",
      " 1   name             243 non-null    object \n",
      " 2   birthday         243 non-null    object \n",
      " 3   title            243 non-null    object \n",
      " 4   characterName    243 non-null    object \n",
      " 5   characterYear    243 non-null    object \n",
      " 6   characterAge     243 non-null    float64\n",
      " 7   characterGender  243 non-null    object \n",
      " 8   loveInterest     243 non-null    object \n",
      "dtypes: float64(1), int64(1), object(7)\n",
      "memory usage: 17.2+ KB\n"
     ]
    }
   ],
   "source": [
    "df.info()"
   ],
   "metadata": {
    "collapsed": false,
    "pycharm": {
     "name": "#%%\n"
    }
   }
  },
  {
   "cell_type": "code",
   "execution_count": 14,
   "outputs": [],
   "source": [
    "category_cols = ['title', 'characterYear', 'loveInterest']"
   ],
   "metadata": {
    "collapsed": false,
    "pycharm": {
     "name": "#%%\n"
    }
   }
  },
  {
   "cell_type": "code",
   "execution_count": 15,
   "outputs": [
    {
     "name": "stdout",
     "output_type": "stream",
     "text": [
      "title: 33\n",
      "characterYear: 9\n",
      "loveInterest: 124\n"
     ]
    }
   ],
   "source": [
    "# Количество уникальных значений\n",
    "for c in category_cols:\n",
    "    print(f'{c}: {df[c].unique().size}')"
   ],
   "metadata": {
    "collapsed": false,
    "pycharm": {
     "name": "#%%\n"
    }
   }
  },
  {
   "cell_type": "code",
   "execution_count": 16,
   "outputs": [],
   "source": [
    "for c in category_cols:\n",
    "    df = pd.concat([df, pd.get_dummies(df[c])], axis=1)"
   ],
   "metadata": {
    "collapsed": false,
    "pycharm": {
     "name": "#%%\n"
    }
   }
  },
  {
   "cell_type": "code",
   "execution_count": 17,
   "outputs": [
    {
     "data": {
      "text/plain": "   index              name    birthday           title     characterName  \\\n0      0         Ben Platt  09/24/1993  The Politician     Payton Hobart   \n1      1       Zoey Deutch  11/10/1994  The Politician  Infinity Jackson   \n2      2      Lucy Boynton  01/17/1994  The Politician      Astrid Sloan   \n3      3  Julia Schlaepfer  03/03/1995  The Politician     Alice Charles   \n4      4    Laura Dreyfuss  08/22/1988  The Politician  McAfee Westbrook   \n\n  characterYear  characterAge characterGender  \\\n0     hs senior        -999.0               M   \n1     hs senior        -999.0               F   \n2     hs senior        -999.0               F   \n3     hs senior        -999.0               F   \n4     hs senior        -999.0               F   \n\n                                   loveInterest  13 Reasons Why  ...  \\\n0  Alice Charles, Astrid Sloan, River Barkley\\r               0  ...   \n1                                   __MISSING__               0  ...   \n2                Payton Hobart, River Barkley\\r               0  ...   \n3               Payton Hobart, James Sullivan\\r               0  ...   \n4                                 Skye Leighton               0  ...   \n\n   Summer Roberts, Anna Stern\\r  Tabitha Foster  \\\n0                             0               0   \n1                             0               0   \n2                             0               0   \n3                             0               0   \n4                             0               0   \n\n   Taylor Townsend, Marissa Cooper\\r  Toni Shalifoe  Tyler Locke  \\\n0                                  0              0            0   \n1                                  0              0            0   \n2                                  0              0            0   \n3                                  0              0            0   \n4                                  0              0            0   \n\n   Victor Salazar  Victor Salazar, Andrew Spencer\\r  \\\n0               0                                 0   \n1               0                                 0   \n2               0                                 0   \n3               0                                 0   \n4               0                                 0   \n\n   Will LeClair, Harry Bingham\\r  Zoya Lott, Julien Calloway\\r  __MISSING__  \n0                              0                             0            0  \n1                              0                             0            1  \n2                              0                             0            0  \n3                              0                             0            0  \n4                              0                             0            0  \n\n[5 rows x 175 columns]",
      "text/html": "<div>\n<style scoped>\n    .dataframe tbody tr th:only-of-type {\n        vertical-align: middle;\n    }\n\n    .dataframe tbody tr th {\n        vertical-align: top;\n    }\n\n    .dataframe thead th {\n        text-align: right;\n    }\n</style>\n<table border=\"1\" class=\"dataframe\">\n  <thead>\n    <tr style=\"text-align: right;\">\n      <th></th>\n      <th>index</th>\n      <th>name</th>\n      <th>birthday</th>\n      <th>title</th>\n      <th>characterName</th>\n      <th>characterYear</th>\n      <th>characterAge</th>\n      <th>characterGender</th>\n      <th>loveInterest</th>\n      <th>13 Reasons Why</th>\n      <th>...</th>\n      <th>Summer Roberts, Anna Stern\\r</th>\n      <th>Tabitha Foster</th>\n      <th>Taylor Townsend, Marissa Cooper\\r</th>\n      <th>Toni Shalifoe</th>\n      <th>Tyler Locke</th>\n      <th>Victor Salazar</th>\n      <th>Victor Salazar, Andrew Spencer\\r</th>\n      <th>Will LeClair, Harry Bingham\\r</th>\n      <th>Zoya Lott, Julien Calloway\\r</th>\n      <th>__MISSING__</th>\n    </tr>\n  </thead>\n  <tbody>\n    <tr>\n      <th>0</th>\n      <td>0</td>\n      <td>Ben Platt</td>\n      <td>09/24/1993</td>\n      <td>The Politician</td>\n      <td>Payton Hobart</td>\n      <td>hs senior</td>\n      <td>-999.0</td>\n      <td>M</td>\n      <td>Alice Charles, Astrid Sloan, River Barkley\\r</td>\n      <td>0</td>\n      <td>...</td>\n      <td>0</td>\n      <td>0</td>\n      <td>0</td>\n      <td>0</td>\n      <td>0</td>\n      <td>0</td>\n      <td>0</td>\n      <td>0</td>\n      <td>0</td>\n      <td>0</td>\n    </tr>\n    <tr>\n      <th>1</th>\n      <td>1</td>\n      <td>Zoey Deutch</td>\n      <td>11/10/1994</td>\n      <td>The Politician</td>\n      <td>Infinity Jackson</td>\n      <td>hs senior</td>\n      <td>-999.0</td>\n      <td>F</td>\n      <td>__MISSING__</td>\n      <td>0</td>\n      <td>...</td>\n      <td>0</td>\n      <td>0</td>\n      <td>0</td>\n      <td>0</td>\n      <td>0</td>\n      <td>0</td>\n      <td>0</td>\n      <td>0</td>\n      <td>0</td>\n      <td>1</td>\n    </tr>\n    <tr>\n      <th>2</th>\n      <td>2</td>\n      <td>Lucy Boynton</td>\n      <td>01/17/1994</td>\n      <td>The Politician</td>\n      <td>Astrid Sloan</td>\n      <td>hs senior</td>\n      <td>-999.0</td>\n      <td>F</td>\n      <td>Payton Hobart, River Barkley\\r</td>\n      <td>0</td>\n      <td>...</td>\n      <td>0</td>\n      <td>0</td>\n      <td>0</td>\n      <td>0</td>\n      <td>0</td>\n      <td>0</td>\n      <td>0</td>\n      <td>0</td>\n      <td>0</td>\n      <td>0</td>\n    </tr>\n    <tr>\n      <th>3</th>\n      <td>3</td>\n      <td>Julia Schlaepfer</td>\n      <td>03/03/1995</td>\n      <td>The Politician</td>\n      <td>Alice Charles</td>\n      <td>hs senior</td>\n      <td>-999.0</td>\n      <td>F</td>\n      <td>Payton Hobart, James Sullivan\\r</td>\n      <td>0</td>\n      <td>...</td>\n      <td>0</td>\n      <td>0</td>\n      <td>0</td>\n      <td>0</td>\n      <td>0</td>\n      <td>0</td>\n      <td>0</td>\n      <td>0</td>\n      <td>0</td>\n      <td>0</td>\n    </tr>\n    <tr>\n      <th>4</th>\n      <td>4</td>\n      <td>Laura Dreyfuss</td>\n      <td>08/22/1988</td>\n      <td>The Politician</td>\n      <td>McAfee Westbrook</td>\n      <td>hs senior</td>\n      <td>-999.0</td>\n      <td>F</td>\n      <td>Skye Leighton</td>\n      <td>0</td>\n      <td>...</td>\n      <td>0</td>\n      <td>0</td>\n      <td>0</td>\n      <td>0</td>\n      <td>0</td>\n      <td>0</td>\n      <td>0</td>\n      <td>0</td>\n      <td>0</td>\n      <td>0</td>\n    </tr>\n  </tbody>\n</table>\n<p>5 rows × 175 columns</p>\n</div>"
     },
     "execution_count": 17,
     "metadata": {},
     "output_type": "execute_result"
    }
   ],
   "source": [
    "df.head()"
   ],
   "metadata": {
    "collapsed": false,
    "pycharm": {
     "name": "#%%\n"
    }
   }
  },
  {
   "cell_type": "markdown",
   "source": [
    "<h2>3) Масштабирование данных <h2>"
   ],
   "metadata": {
    "collapsed": false,
    "pycharm": {
     "name": "#%% md\n"
    }
   }
  },
  {
   "cell_type": "markdown",
   "source": [
    "В текущем датасете не нашлось признаков для масштабирования, поэтому возьмем другой."
   ],
   "metadata": {
    "collapsed": false,
    "pycharm": {
     "name": "#%% md\n"
    }
   }
  },
  {
   "cell_type": "code",
   "execution_count": 18,
   "outputs": [
    {
     "data": {
      "text/plain": "                                           title      artist    top genre  \\\n0                  STARSTRUKK (feat. Katy Perry)       3OH!3    dance pop   \n1                    My First Kiss (feat. Ke$ha)       3OH!3    dance pop   \n2                                I Need A Dollar  Aloe Blacc     pop soul   \n3  Airplanes (feat. Hayley Williams of Paramore)       B.o.B  atl hip hop   \n4              Nothin' on You (feat. Bruno Mars)       B.o.B  atl hip hop   \n\n   year released       added    bpm  nrgy  dnce   dB  live   val    dur  \\\n0         2009.0  2022‑02‑17  140.0  81.0  61.0 -6.0  23.0  23.0  203.0   \n1         2010.0  2022‑02‑17  138.0  89.0  68.0 -4.0  36.0  83.0  192.0   \n2         2010.0  2022‑02‑17   95.0  48.0  84.0 -7.0   9.0  96.0  243.0   \n3         2010.0  2022‑02‑17   93.0  87.0  66.0 -4.0   4.0  38.0  180.0   \n4         2010.0  2022‑02‑17  104.0  85.0  69.0 -6.0   9.0  74.0  268.0   \n\n   acous  spch   pop  top year artist type  \n0    0.0   6.0  70.0    2010.0         Duo  \n1    1.0   8.0  68.0    2010.0         Duo  \n2   20.0   3.0  72.0    2010.0        Solo  \n3   11.0  12.0  80.0    2010.0        Solo  \n4   39.0   5.0  79.0    2010.0        Solo  ",
      "text/html": "<div>\n<style scoped>\n    .dataframe tbody tr th:only-of-type {\n        vertical-align: middle;\n    }\n\n    .dataframe tbody tr th {\n        vertical-align: top;\n    }\n\n    .dataframe thead th {\n        text-align: right;\n    }\n</style>\n<table border=\"1\" class=\"dataframe\">\n  <thead>\n    <tr style=\"text-align: right;\">\n      <th></th>\n      <th>title</th>\n      <th>artist</th>\n      <th>top genre</th>\n      <th>year released</th>\n      <th>added</th>\n      <th>bpm</th>\n      <th>nrgy</th>\n      <th>dnce</th>\n      <th>dB</th>\n      <th>live</th>\n      <th>val</th>\n      <th>dur</th>\n      <th>acous</th>\n      <th>spch</th>\n      <th>pop</th>\n      <th>top year</th>\n      <th>artist type</th>\n    </tr>\n  </thead>\n  <tbody>\n    <tr>\n      <th>0</th>\n      <td>STARSTRUKK (feat. Katy Perry)</td>\n      <td>3OH!3</td>\n      <td>dance pop</td>\n      <td>2009.0</td>\n      <td>2022‑02‑17</td>\n      <td>140.0</td>\n      <td>81.0</td>\n      <td>61.0</td>\n      <td>-6.0</td>\n      <td>23.0</td>\n      <td>23.0</td>\n      <td>203.0</td>\n      <td>0.0</td>\n      <td>6.0</td>\n      <td>70.0</td>\n      <td>2010.0</td>\n      <td>Duo</td>\n    </tr>\n    <tr>\n      <th>1</th>\n      <td>My First Kiss (feat. Ke$ha)</td>\n      <td>3OH!3</td>\n      <td>dance pop</td>\n      <td>2010.0</td>\n      <td>2022‑02‑17</td>\n      <td>138.0</td>\n      <td>89.0</td>\n      <td>68.0</td>\n      <td>-4.0</td>\n      <td>36.0</td>\n      <td>83.0</td>\n      <td>192.0</td>\n      <td>1.0</td>\n      <td>8.0</td>\n      <td>68.0</td>\n      <td>2010.0</td>\n      <td>Duo</td>\n    </tr>\n    <tr>\n      <th>2</th>\n      <td>I Need A Dollar</td>\n      <td>Aloe Blacc</td>\n      <td>pop soul</td>\n      <td>2010.0</td>\n      <td>2022‑02‑17</td>\n      <td>95.0</td>\n      <td>48.0</td>\n      <td>84.0</td>\n      <td>-7.0</td>\n      <td>9.0</td>\n      <td>96.0</td>\n      <td>243.0</td>\n      <td>20.0</td>\n      <td>3.0</td>\n      <td>72.0</td>\n      <td>2010.0</td>\n      <td>Solo</td>\n    </tr>\n    <tr>\n      <th>3</th>\n      <td>Airplanes (feat. Hayley Williams of Paramore)</td>\n      <td>B.o.B</td>\n      <td>atl hip hop</td>\n      <td>2010.0</td>\n      <td>2022‑02‑17</td>\n      <td>93.0</td>\n      <td>87.0</td>\n      <td>66.0</td>\n      <td>-4.0</td>\n      <td>4.0</td>\n      <td>38.0</td>\n      <td>180.0</td>\n      <td>11.0</td>\n      <td>12.0</td>\n      <td>80.0</td>\n      <td>2010.0</td>\n      <td>Solo</td>\n    </tr>\n    <tr>\n      <th>4</th>\n      <td>Nothin' on You (feat. Bruno Mars)</td>\n      <td>B.o.B</td>\n      <td>atl hip hop</td>\n      <td>2010.0</td>\n      <td>2022‑02‑17</td>\n      <td>104.0</td>\n      <td>85.0</td>\n      <td>69.0</td>\n      <td>-6.0</td>\n      <td>9.0</td>\n      <td>74.0</td>\n      <td>268.0</td>\n      <td>39.0</td>\n      <td>5.0</td>\n      <td>79.0</td>\n      <td>2010.0</td>\n      <td>Solo</td>\n    </tr>\n  </tbody>\n</table>\n</div>"
     },
     "execution_count": 18,
     "metadata": {},
     "output_type": "execute_result"
    }
   ],
   "source": [
    "data = pd.read_csv('Spotify 2010 - 2019 Top 100.csv')\n",
    "data.head()"
   ],
   "metadata": {
    "collapsed": false,
    "pycharm": {
     "name": "#%%\n"
    }
   }
  },
  {
   "cell_type": "code",
   "execution_count": 19,
   "outputs": [],
   "source": [
    "from sklearn.preprocessing import MinMaxScaler, StandardScaler"
   ],
   "metadata": {
    "collapsed": false,
    "pycharm": {
     "name": "#%%\n"
    }
   }
  },
  {
   "cell_type": "markdown",
   "source": [
    "MinMax масштабирование:"
   ],
   "metadata": {
    "collapsed": false,
    "pycharm": {
     "name": "#%% md\n"
    }
   }
  },
  {
   "cell_type": "code",
   "execution_count": 20,
   "outputs": [],
   "source": [
    "sc1 = MinMaxScaler()\n",
    "sc1_data = sc1.fit_transform(data[['bpm']])"
   ],
   "metadata": {
    "collapsed": false,
    "pycharm": {
     "name": "#%%\n"
    }
   }
  },
  {
   "cell_type": "code",
   "execution_count": 21,
   "outputs": [
    {
     "data": {
      "text/plain": "<Figure size 432x288 with 1 Axes>",
      "image/png": "[encoded data removed]"
     },
     "metadata": {},
     "output_type": "display_data"
    }
   ],
   "source": [
    "plt.hist(data['bpm'], 40)\n",
    "plt.show()"
   ],
   "metadata": {
    "collapsed": false,
    "pycharm": {
     "name": "#%%\n"
    }
   }
  },
  {
   "cell_type": "code",
   "execution_count": 22,
   "outputs": [
    {
     "data": {
      "text/plain": "<Figure size 432x288 with 1 Axes>",
      "image/png": "[encoded data removed]"
     },
     "metadata": {},
     "output_type": "display_data"
    }
   ],
   "source": [
    "plt.hist(sc1_data, 40)\n",
    "plt.show()"
   ],
   "metadata": {
    "collapsed": false,
    "pycharm": {
     "name": "#%%\n"
    }
   }
  },
  {
   "cell_type": "markdown",
   "source": [
    "Масштабирование данных на основе Z-оценки:"
   ],
   "metadata": {
    "collapsed": false,
    "pycharm": {
     "name": "#%% md\n"
    }
   }
  },
  {
   "cell_type": "code",
   "execution_count": 23,
   "outputs": [],
   "source": [
    "sc2 = StandardScaler()\n",
    "sc2_data = sc2.fit_transform(data[['bpm']])"
   ],
   "metadata": {
    "collapsed": false,
    "pycharm": {
     "name": "#%%\n"
    }
   }
  },
  {
   "cell_type": "code",
   "execution_count": 24,
   "outputs": [
    {
     "data": {
      "text/plain": "<Figure size 432x288 with 1 Axes>",
      "image/png": "[encoded data removed]"
     },
     "metadata": {},
     "output_type": "display_data"
    }
   ],
   "source": [
    "plt.hist(data['bpm'], 40)\n",
    "plt.show()"
   ],
   "metadata": {
    "collapsed": false,
    "pycharm": {
     "name": "#%%\n"
    }
   }
  },
  {
   "cell_type": "code",
   "execution_count": 25,
   "outputs": [
    {
     "data": {
      "text/plain": "<Figure size 432x288 with 1 Axes>",
      "image/png": "[encoded data removed]"
     },
     "metadata": {},
     "output_type": "display_data"
    }
   ],
   "source": [
    "plt.hist(sc2_data, 40)\n",
    "plt.show()"
   ],
   "metadata": {
    "collapsed": false,
    "pycharm": {
     "name": "#%%\n"
    }
   }
  }
 ],
 "metadata": {
  "kernelspec": {
   "display_name": "Python 3",
   "language": "python",
   "name": "python3"
  },
  "language_info": {
   "codemirror_mode": {
    "name": "ipython",
    "version": 2
   },
   "file_extension": ".py",
   "mimetype": "text/x-python",
   "name": "python",
   "nbconvert_exporter": "python",
   "pygments_lexer": "ipython2",
   "version": "2.7.6"
  }
 },
 "nbformat": 4,
 "nbformat_minor": 0
}