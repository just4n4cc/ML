{
 "cells": [
  {
   "cell_type": "code",
   "execution_count": 1,
   "metadata": {
    "pycharm": {
     "name": "#%%\n"
    }
   },
   "outputs": [
    {
     "data": {
      "text/plain": "       page_id                                 name  \\\n0         1678            Spider-Man (Peter Parker)   \n1         7139      Captain America (Steven Rogers)   \n2        64786  Wolverine (James \\\"Logan\\\" Howlett)   \n3         1868    Iron Man (Anthony \\\"Tony\\\" Stark)   \n4         2460                  Thor (Thor Odinson)   \n...        ...                                  ...   \n16371   657508                   Ru'ach (Earth-616)   \n16372   665474      Thane (Thanos' son) (Earth-616)   \n16373   695217        Tinkerer (Skrull) (Earth-616)   \n16374   708811       TK421 (Spiderling) (Earth-616)   \n16375   673702                Yologarch (Earth-616)   \n\n                                       urlslug                ID  \\\n0                  \\/Spider-Man_(Peter_Parker)   Secret Identity   \n1            \\/Captain_America_(Steven_Rogers)   Public Identity   \n2      \\/Wolverine_(James_%22Logan%22_Howlett)   Public Identity   \n3        \\/Iron_Man_(Anthony_%22Tony%22_Stark)   Public Identity   \n4                        \\/Thor_(Thor_Odinson)  No Dual Identity   \n...                                        ...               ...   \n16371                   \\/Ru%27ach_(Earth-616)  No Dual Identity   \n16372      \\/Thane_(Thanos%27_son)_(Earth-616)  No Dual Identity   \n16373          \\/Tinkerer_(Skrull)_(Earth-616)   Secret Identity   \n16374         \\/TK421_(Spiderling)_(Earth-616)   Secret Identity   \n16375                  \\/Yologarch_(Earth-616)               NaN   \n\n                    ALIGN         EYE        HAIR              SEX  GSM  \\\n0         Good Characters  Hazel Eyes  Brown Hair  Male Characters  NaN   \n1         Good Characters   Blue Eyes  White Hair  Male Characters  NaN   \n2      Neutral Characters   Blue Eyes  Black Hair  Male Characters  NaN   \n3         Good Characters   Blue Eyes  Black Hair  Male Characters  NaN   \n4         Good Characters   Blue Eyes  Blond Hair  Male Characters  NaN   \n...                   ...         ...         ...              ...  ...   \n16371      Bad Characters  Green Eyes     No Hair  Male Characters  NaN   \n16372     Good Characters   Blue Eyes        Bald  Male Characters  NaN   \n16373      Bad Characters  Black Eyes        Bald  Male Characters  NaN   \n16374  Neutral Characters         NaN         NaN  Male Characters  NaN   \n16375      Bad Characters         NaN         NaN              NaN  NaN   \n\n                   ALIVE  APPEARANCES FIRST APPEARANCE    Year  \n0      Living Characters       4043.0           Aug-62  1962.0  \n1      Living Characters       3360.0           Mar-41  1941.0  \n2      Living Characters       3061.0           Oct-74  1974.0  \n3      Living Characters       2961.0           Mar-63  1963.0  \n4      Living Characters       2258.0           Nov-50  1950.0  \n...                  ...          ...              ...     ...  \n16371  Living Characters          NaN              NaN     NaN  \n16372  Living Characters          NaN              NaN     NaN  \n16373  Living Characters          NaN              NaN     NaN  \n16374  Living Characters          NaN              NaN     NaN  \n16375  Living Characters          NaN              NaN     NaN  \n\n[16376 rows x 13 columns]",
      "text/html": "<div>\n<style scoped>\n    .dataframe tbody tr th:only-of-type {\n        vertical-align: middle;\n    }\n\n    .dataframe tbody tr th {\n        vertical-align: top;\n    }\n\n    .dataframe thead th {\n        text-align: right;\n    }\n</style>\n<table border=\"1\" class=\"dataframe\">\n  <thead>\n    <tr style=\"text-align: right;\">\n      <th></th>\n      <th>page_id</th>\n      <th>name</th>\n      <th>urlslug</th>\n      <th>ID</th>\n      <th>ALIGN</th>\n      <th>EYE</th>\n      <th>HAIR</th>\n      <th>SEX</th>\n      <th>GSM</th>\n      <th>ALIVE</th>\n      <th>APPEARANCES</th>\n      <th>FIRST APPEARANCE</th>\n      <th>Year</th>\n    </tr>\n  </thead>\n  <tbody>\n    <tr>\n      <th>0</th>\n      <td>1678</td>\n      <td>Spider-Man (Peter Parker)</td>\n      <td>\\/Spider-Man_(Peter_Parker)</td>\n      <td>Secret Identity</td>\n      <td>Good Characters</td>\n      <td>Hazel Eyes</td>\n      <td>Brown Hair</td>\n      <td>Male Characters</td>\n      <td>NaN</td>\n      <td>Living Characters</td>\n      <td>4043.0</td>\n      <td>Aug-62</td>\n      <td>1962.0</td>\n    </tr>\n    <tr>\n      <th>1</th>\n      <td>7139</td>\n      <td>Captain America (Steven Rogers)</td>\n      <td>\\/Captain_America_(Steven_Rogers)</td>\n      <td>Public Identity</td>\n      <td>Good Characters</td>\n      <td>Blue Eyes</td>\n      <td>White Hair</td>\n      <td>Male Characters</td>\n      <td>NaN</td>\n      <td>Living Characters</td>\n      <td>3360.0</td>\n      <td>Mar-41</td>\n      <td>1941.0</td>\n    </tr>\n    <tr>\n      <th>2</th>\n      <td>64786</td>\n      <td>Wolverine (James \\\"Logan\\\" Howlett)</td>\n      <td>\\/Wolverine_(James_%22Logan%22_Howlett)</td>\n      <td>Public Identity</td>\n      <td>Neutral Characters</td>\n      <td>Blue Eyes</td>\n      <td>Black Hair</td>\n      <td>Male Characters</td>\n      <td>NaN</td>\n      <td>Living Characters</td>\n      <td>3061.0</td>\n      <td>Oct-74</td>\n      <td>1974.0</td>\n    </tr>\n    <tr>\n      <th>3</th>\n      <td>1868</td>\n      <td>Iron Man (Anthony \\\"Tony\\\" Stark)</td>\n      <td>\\/Iron_Man_(Anthony_%22Tony%22_Stark)</td>\n      <td>Public Identity</td>\n      <td>Good Characters</td>\n      <td>Blue Eyes</td>\n      <td>Black Hair</td>\n      <td>Male Characters</td>\n      <td>NaN</td>\n      <td>Living Characters</td>\n      <td>2961.0</td>\n      <td>Mar-63</td>\n      <td>1963.0</td>\n    </tr>\n    <tr>\n      <th>4</th>\n      <td>2460</td>\n      <td>Thor (Thor Odinson)</td>\n      <td>\\/Thor_(Thor_Odinson)</td>\n      <td>No Dual Identity</td>\n      <td>Good Characters</td>\n      <td>Blue Eyes</td>\n      <td>Blond Hair</td>\n      <td>Male Characters</td>\n      <td>NaN</td>\n      <td>Living Characters</td>\n      <td>2258.0</td>\n      <td>Nov-50</td>\n      <td>1950.0</td>\n    </tr>\n    <tr>\n      <th>...</th>\n      <td>...</td>\n      <td>...</td>\n      <td>...</td>\n      <td>...</td>\n      <td>...</td>\n      <td>...</td>\n      <td>...</td>\n      <td>...</td>\n      <td>...</td>\n      <td>...</td>\n      <td>...</td>\n      <td>...</td>\n      <td>...</td>\n    </tr>\n    <tr>\n      <th>16371</th>\n      <td>657508</td>\n      <td>Ru'ach (Earth-616)</td>\n      <td>\\/Ru%27ach_(Earth-616)</td>\n      <td>No Dual Identity</td>\n      <td>Bad Characters</td>\n      <td>Green Eyes</td>\n      <td>No Hair</td>\n      <td>Male Characters</td>\n      <td>NaN</td>\n      <td>Living Characters</td>\n      <td>NaN</td>\n      <td>NaN</td>\n      <td>NaN</td>\n    </tr>\n    <tr>\n      <th>16372</th>\n      <td>665474</td>\n      <td>Thane (Thanos' son) (Earth-616)</td>\n      <td>\\/Thane_(Thanos%27_son)_(Earth-616)</td>\n      <td>No Dual Identity</td>\n      <td>Good Characters</td>\n      <td>Blue Eyes</td>\n      <td>Bald</td>\n      <td>Male Characters</td>\n      <td>NaN</td>\n      <td>Living Characters</td>\n      <td>NaN</td>\n      <td>NaN</td>\n      <td>NaN</td>\n    </tr>\n    <tr>\n      <th>16373</th>\n      <td>695217</td>\n      <td>Tinkerer (Skrull) (Earth-616)</td>\n      <td>\\/Tinkerer_(Skrull)_(Earth-616)</td>\n      <td>Secret Identity</td>\n      <td>Bad Characters</td>\n      <td>Black Eyes</td>\n      <td>Bald</td>\n      <td>Male Characters</td>\n      <td>NaN</td>\n      <td>Living Characters</td>\n      <td>NaN</td>\n      <td>NaN</td>\n      <td>NaN</td>\n    </tr>\n    <tr>\n      <th>16374</th>\n      <td>708811</td>\n      <td>TK421 (Spiderling) (Earth-616)</td>\n      <td>\\/TK421_(Spiderling)_(Earth-616)</td>\n      <td>Secret Identity</td>\n      <td>Neutral Characters</td>\n      <td>NaN</td>\n      <td>NaN</td>\n      <td>Male Characters</td>\n      <td>NaN</td>\n      <td>Living Characters</td>\n      <td>NaN</td>\n      <td>NaN</td>\n      <td>NaN</td>\n    </tr>\n    <tr>\n      <th>16375</th>\n      <td>673702</td>\n      <td>Yologarch (Earth-616)</td>\n      <td>\\/Yologarch_(Earth-616)</td>\n      <td>NaN</td>\n      <td>Bad Characters</td>\n      <td>NaN</td>\n      <td>NaN</td>\n      <td>NaN</td>\n      <td>NaN</td>\n      <td>Living Characters</td>\n      <td>NaN</td>\n      <td>NaN</td>\n      <td>NaN</td>\n    </tr>\n  </tbody>\n</table>\n<p>16376 rows × 13 columns</p>\n</div>"
     },
     "execution_count": 1,
     "metadata": {},
     "output_type": "execute_result"
    }
   ],
   "source": [
    "import numpy as np\n",
    "import pandas as pd\n",
    "import seaborn as sns\n",
    "import matplotlib.pyplot as plt\n",
    "from sklearn.impute import SimpleImputer\n",
    "\n",
    "%matplotlib inline\n",
    "sns.set(style=\"ticks\")\n",
    "\n",
    "data = pd.read_csv('marvel-wikia-data.csv')\n",
    "data"
   ]
  },
  {
   "cell_type": "code",
   "execution_count": 2,
   "metadata": {
    "pycharm": {
     "name": "#%%\n"
    }
   },
   "outputs": [
    {
     "name": "stdout",
     "output_type": "stream",
     "text": [
      "16376 строк, 13 столбцов\n"
     ]
    }
   ],
   "source": [
    "# Размеры датасета\n",
    "data_rows_cnt, data_columns_cnt = data.shape[0], data.shape[1]\n",
    "print('{} строк, {} столбцов'.format(data_rows_cnt, data_columns_cnt))"
   ]
  },
  {
   "cell_type": "code",
   "execution_count": 3,
   "metadata": {
    "pycharm": {
     "name": "#%%\n"
    }
   },
   "outputs": [
    {
     "data": {
      "text/plain": "page_id               int64\nname                 object\nurlslug              object\nID                   object\nALIGN                object\nEYE                  object\nHAIR                 object\nSEX                  object\nGSM                  object\nALIVE                object\nAPPEARANCES         float64\nFIRST APPEARANCE     object\nYear                float64\ndtype: object"
     },
     "execution_count": 3,
     "metadata": {},
     "output_type": "execute_result"
    }
   ],
   "source": [
    "data.dtypes"
   ]
  },
  {
   "cell_type": "code",
   "execution_count": 4,
   "outputs": [
    {
     "name": "stdout",
     "output_type": "stream",
     "text": [
      "Столбец page_id: 0 строк, 0.0%\n",
      "Столбец name: 0 строк, 0.0%\n",
      "Столбец urlslug: 0 строк, 0.0%\n",
      "Столбец ID: 3770 строк, 23.02%\n",
      "Столбец ALIGN: 2812 строк, 17.17%\n",
      "Столбец EYE: 9767 строк, 59.64%\n",
      "Столбец HAIR: 4264 строк, 26.04%\n",
      "Столбец SEX: 854 строк, 5.21%\n",
      "Столбец GSM: 16286 строк, 99.45%\n",
      "Столбец ALIVE: 3 строк, 0.02%\n",
      "Столбец APPEARANCES: 1096 строк, 6.69%\n",
      "Столбец FIRST APPEARANCE: 815 строк, 4.98%\n",
      "Столбец Year: 815 строк, 4.98%\n"
     ]
    }
   ],
   "source": [
    "# Количество пустых значений\n",
    "def print_na_stats(data):\n",
    "    for c in data.columns:\n",
    "        na_cnt = data[data[c].isna()].shape[0]\n",
    "        na_percentage = round(na_cnt / data_rows_cnt * 100., 2)\n",
    "        print('Столбец {}: {} строк, {}%'.format(c, na_cnt, na_percentage))\n",
    "print_na_stats(data)"
   ],
   "metadata": {
    "collapsed": false,
    "pycharm": {
     "name": "#%%\n"
    }
   }
  },
  {
   "cell_type": "code",
   "execution_count": 5,
   "outputs": [
    {
     "data": {
      "text/plain": "       page_id                                 name                ID  \\\n0         1678            Spider-Man (Peter Parker)   Secret Identity   \n1         7139      Captain America (Steven Rogers)   Public Identity   \n2        64786  Wolverine (James \\\"Logan\\\" Howlett)   Public Identity   \n3         1868    Iron Man (Anthony \\\"Tony\\\" Stark)   Public Identity   \n4         2460                  Thor (Thor Odinson)  No Dual Identity   \n...        ...                                  ...               ...   \n16371   657508                   Ru'ach (Earth-616)  No Dual Identity   \n16372   665474      Thane (Thanos' son) (Earth-616)  No Dual Identity   \n16373   695217        Tinkerer (Skrull) (Earth-616)   Secret Identity   \n16374   708811       TK421 (Spiderling) (Earth-616)   Secret Identity   \n16375   673702                Yologarch (Earth-616)               NaN   \n\n                    ALIGN         EYE        HAIR              SEX  GSM  \\\n0         Good Characters  Hazel Eyes  Brown Hair  Male Characters  NaN   \n1         Good Characters   Blue Eyes  White Hair  Male Characters  NaN   \n2      Neutral Characters   Blue Eyes  Black Hair  Male Characters  NaN   \n3         Good Characters   Blue Eyes  Black Hair  Male Characters  NaN   \n4         Good Characters   Blue Eyes  Blond Hair  Male Characters  NaN   \n...                   ...         ...         ...              ...  ...   \n16371      Bad Characters  Green Eyes     No Hair  Male Characters  NaN   \n16372     Good Characters   Blue Eyes        Bald  Male Characters  NaN   \n16373      Bad Characters  Black Eyes        Bald  Male Characters  NaN   \n16374  Neutral Characters         NaN         NaN  Male Characters  NaN   \n16375      Bad Characters         NaN         NaN              NaN  NaN   \n\n                   ALIVE  APPEARANCES FIRST APPEARANCE    Year  \n0      Living Characters       4043.0           Aug-62  1962.0  \n1      Living Characters       3360.0           Mar-41  1941.0  \n2      Living Characters       3061.0           Oct-74  1974.0  \n3      Living Characters       2961.0           Mar-63  1963.0  \n4      Living Characters       2258.0           Nov-50  1950.0  \n...                  ...          ...              ...     ...  \n16371  Living Characters          NaN              NaN     NaN  \n16372  Living Characters          NaN              NaN     NaN  \n16373  Living Characters          NaN              NaN     NaN  \n16374  Living Characters          NaN              NaN     NaN  \n16375  Living Characters          NaN              NaN     NaN  \n\n[16376 rows x 12 columns]",
      "text/html": "<div>\n<style scoped>\n    .dataframe tbody tr th:only-of-type {\n        vertical-align: middle;\n    }\n\n    .dataframe tbody tr th {\n        vertical-align: top;\n    }\n\n    .dataframe thead th {\n        text-align: right;\n    }\n</style>\n<table border=\"1\" class=\"dataframe\">\n  <thead>\n    <tr style=\"text-align: right;\">\n      <th></th>\n      <th>page_id</th>\n      <th>name</th>\n      <th>ID</th>\n      <th>ALIGN</th>\n      <th>EYE</th>\n      <th>HAIR</th>\n      <th>SEX</th>\n      <th>GSM</th>\n      <th>ALIVE</th>\n      <th>APPEARANCES</th>\n      <th>FIRST APPEARANCE</th>\n      <th>Year</th>\n    </tr>\n  </thead>\n  <tbody>\n    <tr>\n      <th>0</th>\n      <td>1678</td>\n      <td>Spider-Man (Peter Parker)</td>\n      <td>Secret Identity</td>\n      <td>Good Characters</td>\n      <td>Hazel Eyes</td>\n      <td>Brown Hair</td>\n      <td>Male Characters</td>\n      <td>NaN</td>\n      <td>Living Characters</td>\n      <td>4043.0</td>\n      <td>Aug-62</td>\n      <td>1962.0</td>\n    </tr>\n    <tr>\n      <th>1</th>\n      <td>7139</td>\n      <td>Captain America (Steven Rogers)</td>\n      <td>Public Identity</td>\n      <td>Good Characters</td>\n      <td>Blue Eyes</td>\n      <td>White Hair</td>\n      <td>Male Characters</td>\n      <td>NaN</td>\n      <td>Living Characters</td>\n      <td>3360.0</td>\n      <td>Mar-41</td>\n      <td>1941.0</td>\n    </tr>\n    <tr>\n      <th>2</th>\n      <td>64786</td>\n      <td>Wolverine (James \\\"Logan\\\" Howlett)</td>\n      <td>Public Identity</td>\n      <td>Neutral Characters</td>\n      <td>Blue Eyes</td>\n      <td>Black Hair</td>\n      <td>Male Characters</td>\n      <td>NaN</td>\n      <td>Living Characters</td>\n      <td>3061.0</td>\n      <td>Oct-74</td>\n      <td>1974.0</td>\n    </tr>\n    <tr>\n      <th>3</th>\n      <td>1868</td>\n      <td>Iron Man (Anthony \\\"Tony\\\" Stark)</td>\n      <td>Public Identity</td>\n      <td>Good Characters</td>\n      <td>Blue Eyes</td>\n      <td>Black Hair</td>\n      <td>Male Characters</td>\n      <td>NaN</td>\n      <td>Living Characters</td>\n      <td>2961.0</td>\n      <td>Mar-63</td>\n      <td>1963.0</td>\n    </tr>\n    <tr>\n      <th>4</th>\n      <td>2460</td>\n      <td>Thor (Thor Odinson)</td>\n      <td>No Dual Identity</td>\n      <td>Good Characters</td>\n      <td>Blue Eyes</td>\n      <td>Blond Hair</td>\n      <td>Male Characters</td>\n      <td>NaN</td>\n      <td>Living Characters</td>\n      <td>2258.0</td>\n      <td>Nov-50</td>\n      <td>1950.0</td>\n    </tr>\n    <tr>\n      <th>...</th>\n      <td>...</td>\n      <td>...</td>\n      <td>...</td>\n      <td>...</td>\n      <td>...</td>\n      <td>...</td>\n      <td>...</td>\n      <td>...</td>\n      <td>...</td>\n      <td>...</td>\n      <td>...</td>\n      <td>...</td>\n    </tr>\n    <tr>\n      <th>16371</th>\n      <td>657508</td>\n      <td>Ru'ach (Earth-616)</td>\n      <td>No Dual Identity</td>\n      <td>Bad Characters</td>\n      <td>Green Eyes</td>\n      <td>No Hair</td>\n      <td>Male Characters</td>\n      <td>NaN</td>\n      <td>Living Characters</td>\n      <td>NaN</td>\n      <td>NaN</td>\n      <td>NaN</td>\n    </tr>\n    <tr>\n      <th>16372</th>\n      <td>665474</td>\n      <td>Thane (Thanos' son) (Earth-616)</td>\n      <td>No Dual Identity</td>\n      <td>Good Characters</td>\n      <td>Blue Eyes</td>\n      <td>Bald</td>\n      <td>Male Characters</td>\n      <td>NaN</td>\n      <td>Living Characters</td>\n      <td>NaN</td>\n      <td>NaN</td>\n      <td>NaN</td>\n    </tr>\n    <tr>\n      <th>16373</th>\n      <td>695217</td>\n      <td>Tinkerer (Skrull) (Earth-616)</td>\n      <td>Secret Identity</td>\n      <td>Bad Characters</td>\n      <td>Black Eyes</td>\n      <td>Bald</td>\n      <td>Male Characters</td>\n      <td>NaN</td>\n      <td>Living Characters</td>\n      <td>NaN</td>\n      <td>NaN</td>\n      <td>NaN</td>\n    </tr>\n    <tr>\n      <th>16374</th>\n      <td>708811</td>\n      <td>TK421 (Spiderling) (Earth-616)</td>\n      <td>Secret Identity</td>\n      <td>Neutral Characters</td>\n      <td>NaN</td>\n      <td>NaN</td>\n      <td>Male Characters</td>\n      <td>NaN</td>\n      <td>Living Characters</td>\n      <td>NaN</td>\n      <td>NaN</td>\n      <td>NaN</td>\n    </tr>\n    <tr>\n      <th>16375</th>\n      <td>673702</td>\n      <td>Yologarch (Earth-616)</td>\n      <td>NaN</td>\n      <td>Bad Characters</td>\n      <td>NaN</td>\n      <td>NaN</td>\n      <td>NaN</td>\n      <td>NaN</td>\n      <td>Living Characters</td>\n      <td>NaN</td>\n      <td>NaN</td>\n      <td>NaN</td>\n    </tr>\n  </tbody>\n</table>\n<p>16376 rows × 12 columns</p>\n</div>"
     },
     "execution_count": 5,
     "metadata": {},
     "output_type": "execute_result"
    }
   ],
   "source": [
    "# Проведя первичный анализ данных, можно удалить столбец GSM, так как он имеет более 99% пропущенных значений\n",
    "data.drop(['GSM'], axis=1)\n",
    "\n",
    "# Также можно удалить столбец urlslug, так как он не является информативным\n",
    "data.drop(['urlslug'], axis=1)"
   ],
   "metadata": {
    "collapsed": false,
    "pycharm": {
     "name": "#%%\n"
    }
   }
  },
  {
   "cell_type": "code",
   "execution_count": 6,
   "outputs": [
    {
     "data": {
      "text/plain": "<Figure size 432x288 with 1 Axes>",
      "image/png": "[encoded data removed]"
     },
     "metadata": {},
     "output_type": "display_data"
    }
   ],
   "source": [
    "# Построим гистограмму для столбца Year\n",
    "plt.hist(data['Year'].dropna(), 50)\n",
    "plt.show()"
   ],
   "metadata": {
    "collapsed": false,
    "pycharm": {
     "name": "#%%\n"
    }
   }
  },
  {
   "cell_type": "code",
   "execution_count": 7,
   "outputs": [],
   "source": [
    "def impute_col(data, col_name, strategy='median', fill_val='NA'):\n",
    "    if strategy == 'constant':\n",
    "        new_col = SimpleImputer(strategy=strategy, fill_value=fill_val).fit_transform(data[[col_name]])\n",
    "    else:\n",
    "        new_col = SimpleImputer(strategy=strategy).fit_transform(data[[col_name]])\n",
    "    data[[col_name]] = new_col"
   ],
   "metadata": {
    "collapsed": false,
    "pycharm": {
     "name": "#%%\n"
    }
   }
  },
  {
   "cell_type": "code",
   "execution_count": 8,
   "outputs": [
    {
     "name": "stdout",
     "output_type": "stream",
     "text": [
      "Столбец page_id: 0 строк, 0.0%\n",
      "Столбец name: 0 строк, 0.0%\n",
      "Столбец urlslug: 0 строк, 0.0%\n",
      "Столбец ID: 3770 строк, 23.02%\n",
      "Столбец ALIGN: 2812 строк, 17.17%\n",
      "Столбец EYE: 0 строк, 0.0%\n",
      "Столбец HAIR: 4264 строк, 26.04%\n",
      "Столбец SEX: 854 строк, 5.21%\n",
      "Столбец GSM: 16286 строк, 99.45%\n",
      "Столбец ALIVE: 3 строк, 0.02%\n",
      "Столбец APPEARANCES: 1096 строк, 6.69%\n",
      "Столбец FIRST APPEARANCE: 815 строк, 4.98%\n",
      "Столбец Year: 815 строк, 4.98%\n"
     ]
    }
   ],
   "source": [
    "# Произведем импьютацию константой категориального признака\n",
    "impute_col(data, 'EYE', 'constant', 'NA')\n",
    "print_na_stats(data)"
   ],
   "metadata": {
    "collapsed": false,
    "pycharm": {
     "name": "#%%\n"
    }
   }
  },
  {
   "cell_type": "code",
   "execution_count": 9,
   "outputs": [
    {
     "name": "stdout",
     "output_type": "stream",
     "text": [
      "Столбец page_id: 0 строк, 0.0%\n",
      "Столбец name: 0 строк, 0.0%\n",
      "Столбец urlslug: 0 строк, 0.0%\n",
      "Столбец ID: 3770 строк, 23.02%\n",
      "Столбец ALIGN: 2812 строк, 17.17%\n",
      "Столбец EYE: 0 строк, 0.0%\n",
      "Столбец HAIR: 4264 строк, 26.04%\n",
      "Столбец SEX: 854 строк, 5.21%\n",
      "Столбец GSM: 16286 строк, 99.45%\n",
      "Столбец ALIVE: 3 строк, 0.02%\n",
      "Столбец APPEARANCES: 0 строк, 0.0%\n",
      "Столбец FIRST APPEARANCE: 815 строк, 4.98%\n",
      "Столбец Year: 815 строк, 4.98%\n"
     ]
    }
   ],
   "source": [
    "# Произведем импьютацию медианой количественного признака APPEARANCES\n",
    "impute_col(data, 'APPEARANCES')\n",
    "print_na_stats(data)"
   ],
   "metadata": {
    "collapsed": false,
    "pycharm": {
     "name": "#%%\n"
    }
   }
  },
  {
   "cell_type": "code",
   "execution_count": null,
   "metadata": {},
   "outputs": [],
   "source": []
  }
 ],
 "metadata": {
  "kernelspec": {
   "display_name": "Python 3 (ipykernel)",
   "language": "python",
   "name": "python3"
  },
  "language_info": {
   "codemirror_mode": {
    "name": "ipython",
    "version": 3
   },
   "file_extension": ".py",
   "mimetype": "text/x-python",
   "name": "python",
   "nbconvert_exporter": "python",
   "pygments_lexer": "ipython3",
   "version": "3.8.10"
  }
 },
 "nbformat": 4,
 "nbformat_minor": 1
}