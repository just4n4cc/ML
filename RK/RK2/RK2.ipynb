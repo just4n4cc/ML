{
 "cells": [
  {
   "cell_type": "markdown",
   "metadata": {
    "pycharm": {
     "name": "#%% md\n"
    }
   },
   "source": [
    "<h1>ИУ5-62Б Корчевский Александр</h1>"
   ]
  },
  {
   "cell_type": "markdown",
   "metadata": {
    "pycharm": {
     "name": "#%% md\n"
    }
   },
   "source": [
    "<h2>РК2. Вариант 11</h2>\n",
    "\n",
    "Задание. Для заданного набора данных (по Вашему варианту) постройте модели классификации или регрессии (в зависимости от конкретной задачи, рассматриваемой в наборе данных). Для построения моделей используйте методы: Метод опорных векторов, Случайный лес. Оцените качество моделей на основе подходящих метрик качества (не менее двух метрик). Какие метрики качества Вы использовали и почему? Какие выводы Вы можете сделать о качестве построенных моделей? Для построения моделей необходимо выполнить требуемую предобработку данных: заполнение пропусков, кодирование категориальных признаков, и т.д."
   ]
  },
  {
   "cell_type": "code",
   "execution_count": 1,
   "metadata": {
    "pycharm": {
     "name": "#%%\n"
    }
   },
   "outputs": [],
   "source": [
    "import numpy as np\n",
    "import pandas as pd\n",
    "import seaborn as sns\n",
    "import matplotlib.pyplot as plt\n",
    "from sklearn.model_selection import train_test_split,  GridSearchCV\n",
    "from sklearn.metrics import classification_report\n",
    "from sklearn.metrics import confusion_matrix\n",
    "from sklearn.svm import SVC\n",
    "from sklearn.ensemble import RandomForestClassifier"
   ]
  },
  {
   "cell_type": "code",
   "execution_count": 2,
   "metadata": {
    "pycharm": {
     "name": "#%%\n"
    }
   },
   "outputs": [
    {
     "data": {
      "text/plain": "   Unnamed: 0      ID               Name  Age  \\\n0           0  158023           L. Messi   31   \n1           1   20801  Cristiano Ronaldo   33   \n2           2  190871          Neymar Jr   26   \n3           3  193080             De Gea   27   \n4           4  192985       K. De Bruyne   27   \n\n                                            Photo Nationality  \\\n0  https://cdn.sofifa.org/players/4/19/158023.png   Argentina   \n1   https://cdn.sofifa.org/players/4/19/20801.png    Portugal   \n2  https://cdn.sofifa.org/players/4/19/190871.png      Brazil   \n3  https://cdn.sofifa.org/players/4/19/193080.png       Spain   \n4  https://cdn.sofifa.org/players/4/19/192985.png     Belgium   \n\n                                  Flag  Overall  Potential  \\\n0  https://cdn.sofifa.org/flags/52.png       94         94   \n1  https://cdn.sofifa.org/flags/38.png       94         94   \n2  https://cdn.sofifa.org/flags/54.png       92         93   \n3  https://cdn.sofifa.org/flags/45.png       91         93   \n4   https://cdn.sofifa.org/flags/7.png       91         92   \n\n                  Club  ... Composure Marking StandingTackle  SlidingTackle  \\\n0         FC Barcelona  ...      96.0    33.0           28.0           26.0   \n1             Juventus  ...      95.0    28.0           31.0           23.0   \n2  Paris Saint-Germain  ...      94.0    27.0           24.0           33.0   \n3    Manchester United  ...      68.0    15.0           21.0           13.0   \n4      Manchester City  ...      88.0    68.0           58.0           51.0   \n\n  GKDiving  GKHandling  GKKicking  GKPositioning GKReflexes Release Clause  \n0      6.0        11.0       15.0           14.0        8.0        €226.5M  \n1      7.0        11.0       15.0           14.0       11.0        €127.1M  \n2      9.0         9.0       15.0           15.0       11.0        €228.1M  \n3     90.0        85.0       87.0           88.0       94.0        €138.6M  \n4     15.0        13.0        5.0           10.0       13.0        €196.4M  \n\n[5 rows x 89 columns]",
      "text/html": "<div>\n<style scoped>\n    .dataframe tbody tr th:only-of-type {\n        vertical-align: middle;\n    }\n\n    .dataframe tbody tr th {\n        vertical-align: top;\n    }\n\n    .dataframe thead th {\n        text-align: right;\n    }\n</style>\n<table border=\"1\" class=\"dataframe\">\n  <thead>\n    <tr style=\"text-align: right;\">\n      <th></th>\n      <th>Unnamed: 0</th>\n      <th>ID</th>\n      <th>Name</th>\n      <th>Age</th>\n      <th>Photo</th>\n      <th>Nationality</th>\n      <th>Flag</th>\n      <th>Overall</th>\n      <th>Potential</th>\n      <th>Club</th>\n      <th>...</th>\n      <th>Composure</th>\n      <th>Marking</th>\n      <th>StandingTackle</th>\n      <th>SlidingTackle</th>\n      <th>GKDiving</th>\n      <th>GKHandling</th>\n      <th>GKKicking</th>\n      <th>GKPositioning</th>\n      <th>GKReflexes</th>\n      <th>Release Clause</th>\n    </tr>\n  </thead>\n  <tbody>\n    <tr>\n      <th>0</th>\n      <td>0</td>\n      <td>158023</td>\n      <td>L. Messi</td>\n      <td>31</td>\n      <td>https://cdn.sofifa.org/players/4/19/158023.png</td>\n      <td>Argentina</td>\n      <td>https://cdn.sofifa.org/flags/52.png</td>\n      <td>94</td>\n      <td>94</td>\n      <td>FC Barcelona</td>\n      <td>...</td>\n      <td>96.0</td>\n      <td>33.0</td>\n      <td>28.0</td>\n      <td>26.0</td>\n      <td>6.0</td>\n      <td>11.0</td>\n      <td>15.0</td>\n      <td>14.0</td>\n      <td>8.0</td>\n      <td>€226.5M</td>\n    </tr>\n    <tr>\n      <th>1</th>\n      <td>1</td>\n      <td>20801</td>\n      <td>Cristiano Ronaldo</td>\n      <td>33</td>\n      <td>https://cdn.sofifa.org/players/4/19/20801.png</td>\n      <td>Portugal</td>\n      <td>https://cdn.sofifa.org/flags/38.png</td>\n      <td>94</td>\n      <td>94</td>\n      <td>Juventus</td>\n      <td>...</td>\n      <td>95.0</td>\n      <td>28.0</td>\n      <td>31.0</td>\n      <td>23.0</td>\n      <td>7.0</td>\n      <td>11.0</td>\n      <td>15.0</td>\n      <td>14.0</td>\n      <td>11.0</td>\n      <td>€127.1M</td>\n    </tr>\n    <tr>\n      <th>2</th>\n      <td>2</td>\n      <td>190871</td>\n      <td>Neymar Jr</td>\n      <td>26</td>\n      <td>https://cdn.sofifa.org/players/4/19/190871.png</td>\n      <td>Brazil</td>\n      <td>https://cdn.sofifa.org/flags/54.png</td>\n      <td>92</td>\n      <td>93</td>\n      <td>Paris Saint-Germain</td>\n      <td>...</td>\n      <td>94.0</td>\n      <td>27.0</td>\n      <td>24.0</td>\n      <td>33.0</td>\n      <td>9.0</td>\n      <td>9.0</td>\n      <td>15.0</td>\n      <td>15.0</td>\n      <td>11.0</td>\n      <td>€228.1M</td>\n    </tr>\n    <tr>\n      <th>3</th>\n      <td>3</td>\n      <td>193080</td>\n      <td>De Gea</td>\n      <td>27</td>\n      <td>https://cdn.sofifa.org/players/4/19/193080.png</td>\n      <td>Spain</td>\n      <td>https://cdn.sofifa.org/flags/45.png</td>\n      <td>91</td>\n      <td>93</td>\n      <td>Manchester United</td>\n      <td>...</td>\n      <td>68.0</td>\n      <td>15.0</td>\n      <td>21.0</td>\n      <td>13.0</td>\n      <td>90.0</td>\n      <td>85.0</td>\n      <td>87.0</td>\n      <td>88.0</td>\n      <td>94.0</td>\n      <td>€138.6M</td>\n    </tr>\n    <tr>\n      <th>4</th>\n      <td>4</td>\n      <td>192985</td>\n      <td>K. De Bruyne</td>\n      <td>27</td>\n      <td>https://cdn.sofifa.org/players/4/19/192985.png</td>\n      <td>Belgium</td>\n      <td>https://cdn.sofifa.org/flags/7.png</td>\n      <td>91</td>\n      <td>92</td>\n      <td>Manchester City</td>\n      <td>...</td>\n      <td>88.0</td>\n      <td>68.0</td>\n      <td>58.0</td>\n      <td>51.0</td>\n      <td>15.0</td>\n      <td>13.0</td>\n      <td>5.0</td>\n      <td>10.0</td>\n      <td>13.0</td>\n      <td>€196.4M</td>\n    </tr>\n  </tbody>\n</table>\n<p>5 rows × 89 columns</p>\n</div>"
     },
     "execution_count": 2,
     "metadata": {},
     "output_type": "execute_result"
    }
   ],
   "source": [
    "data = pd.read_csv('data.csv')\n",
    "data.head()"
   ]
  },
  {
   "cell_type": "code",
   "execution_count": 3,
   "metadata": {
    "pycharm": {
     "name": "#%%\n"
    }
   },
   "outputs": [
    {
     "name": "stdout",
     "output_type": "stream",
     "text": [
      "<class 'pandas.core.frame.DataFrame'>\n",
      "RangeIndex: 18207 entries, 0 to 18206\n",
      "Data columns (total 89 columns):\n",
      " #   Column                    Non-Null Count  Dtype  \n",
      "---  ------                    --------------  -----  \n",
      " 0   Unnamed: 0                18207 non-null  int64  \n",
      " 1   ID                        18207 non-null  int64  \n",
      " 2   Name                      18207 non-null  object \n",
      " 3   Age                       18207 non-null  int64  \n",
      " 4   Photo                     18207 non-null  object \n",
      " 5   Nationality               18207 non-null  object \n",
      " 6   Flag                      18207 non-null  object \n",
      " 7   Overall                   18207 non-null  int64  \n",
      " 8   Potential                 18207 non-null  int64  \n",
      " 9   Club                      17966 non-null  object \n",
      " 10  Club Logo                 18207 non-null  object \n",
      " 11  Value                     18207 non-null  object \n",
      " 12  Wage                      18207 non-null  object \n",
      " 13  Special                   18207 non-null  int64  \n",
      " 14  Preferred Foot            18159 non-null  object \n",
      " 15  International Reputation  18159 non-null  float64\n",
      " 16  Weak Foot                 18159 non-null  float64\n",
      " 17  Skill Moves               18159 non-null  float64\n",
      " 18  Work Rate                 18159 non-null  object \n",
      " 19  Body Type                 18159 non-null  object \n",
      " 20  Real Face                 18159 non-null  object \n",
      " 21  Position                  18147 non-null  object \n",
      " 22  Jersey Number             18147 non-null  float64\n",
      " 23  Joined                    16654 non-null  object \n",
      " 24  Loaned From               1264 non-null   object \n",
      " 25  Contract Valid Until      17918 non-null  object \n",
      " 26  Height                    18159 non-null  object \n",
      " 27  Weight                    18159 non-null  object \n",
      " 28  LS                        16122 non-null  object \n",
      " 29  ST                        16122 non-null  object \n",
      " 30  RS                        16122 non-null  object \n",
      " 31  LW                        16122 non-null  object \n",
      " 32  LF                        16122 non-null  object \n",
      " 33  CF                        16122 non-null  object \n",
      " 34  RF                        16122 non-null  object \n",
      " 35  RW                        16122 non-null  object \n",
      " 36  LAM                       16122 non-null  object \n",
      " 37  CAM                       16122 non-null  object \n",
      " 38  RAM                       16122 non-null  object \n",
      " 39  LM                        16122 non-null  object \n",
      " 40  LCM                       16122 non-null  object \n",
      " 41  CM                        16122 non-null  object \n",
      " 42  RCM                       16122 non-null  object \n",
      " 43  RM                        16122 non-null  object \n",
      " 44  LWB                       16122 non-null  object \n",
      " 45  LDM                       16122 non-null  object \n",
      " 46  CDM                       16122 non-null  object \n",
      " 47  RDM                       16122 non-null  object \n",
      " 48  RWB                       16122 non-null  object \n",
      " 49  LB                        16122 non-null  object \n",
      " 50  LCB                       16122 non-null  object \n",
      " 51  CB                        16122 non-null  object \n",
      " 52  RCB                       16122 non-null  object \n",
      " 53  RB                        16122 non-null  object \n",
      " 54  Crossing                  18159 non-null  float64\n",
      " 55  Finishing                 18159 non-null  float64\n",
      " 56  HeadingAccuracy           18159 non-null  float64\n",
      " 57  ShortPassing              18159 non-null  float64\n",
      " 58  Volleys                   18159 non-null  float64\n",
      " 59  Dribbling                 18159 non-null  float64\n",
      " 60  Curve                     18159 non-null  float64\n",
      " 61  FKAccuracy                18159 non-null  float64\n",
      " 62  LongPassing               18159 non-null  float64\n",
      " 63  BallControl               18159 non-null  float64\n",
      " 64  Acceleration              18159 non-null  float64\n",
      " 65  SprintSpeed               18159 non-null  float64\n",
      " 66  Agility                   18159 non-null  float64\n",
      " 67  Reactions                 18159 non-null  float64\n",
      " 68  Balance                   18159 non-null  float64\n",
      " 69  ShotPower                 18159 non-null  float64\n",
      " 70  Jumping                   18159 non-null  float64\n",
      " 71  Stamina                   18159 non-null  float64\n",
      " 72  Strength                  18159 non-null  float64\n",
      " 73  LongShots                 18159 non-null  float64\n",
      " 74  Aggression                18159 non-null  float64\n",
      " 75  Interceptions             18159 non-null  float64\n",
      " 76  Positioning               18159 non-null  float64\n",
      " 77  Vision                    18159 non-null  float64\n",
      " 78  Penalties                 18159 non-null  float64\n",
      " 79  Composure                 18159 non-null  float64\n",
      " 80  Marking                   18159 non-null  float64\n",
      " 81  StandingTackle            18159 non-null  float64\n",
      " 82  SlidingTackle             18159 non-null  float64\n",
      " 83  GKDiving                  18159 non-null  float64\n",
      " 84  GKHandling                18159 non-null  float64\n",
      " 85  GKKicking                 18159 non-null  float64\n",
      " 86  GKPositioning             18159 non-null  float64\n",
      " 87  GKReflexes                18159 non-null  float64\n",
      " 88  Release Clause            16643 non-null  object \n",
      "dtypes: float64(38), int64(6), object(45)\n",
      "memory usage: 12.4+ MB\n"
     ]
    }
   ],
   "source": [
    "data.info()"
   ]
  },
  {
   "cell_type": "code",
   "execution_count": 4,
   "metadata": {
    "pycharm": {
     "name": "#%%\n"
    }
   },
   "outputs": [
    {
     "name": "stdout",
     "output_type": "stream",
     "text": [
      "Количество пропущенных значений\n"
     ]
    },
    {
     "data": {
      "text/plain": "Unnamed: 0           0\nID                   0\nName                 0\nAge                  0\nPhoto                0\n                  ... \nGKHandling          48\nGKKicking           48\nGKPositioning       48\nGKReflexes          48\nRelease Clause    1564\nLength: 89, dtype: int64"
     },
     "execution_count": 4,
     "metadata": {},
     "output_type": "execute_result"
    }
   ],
   "source": [
    "print('Количество пропущенных значений')\n",
    "data.isnull().sum()"
   ]
  },
  {
   "cell_type": "markdown",
   "metadata": {
    "pycharm": {
     "name": "#%% md\n"
    }
   },
   "source": [
    "Удалим строки с пропущенными значениями и столбцы, не влияющие на целевой признак"
   ]
  },
  {
   "cell_type": "code",
   "execution_count": 5,
   "metadata": {
    "pycharm": {
     "name": "#%%\n"
    }
   },
   "outputs": [],
   "source": [
    "del data['Unnamed: 0']\n",
    "del data['Name']\n",
    "del data['Photo']\n",
    "del data['Flag']\n",
    "del data['Club Logo']\n",
    "del data['Loaned From']\n",
    "del data['Joined']\n",
    "del data['Contract Valid Until']"
   ]
  },
  {
   "cell_type": "code",
   "execution_count": 6,
   "metadata": {
    "pycharm": {
     "name": "#%%\n"
    }
   },
   "outputs": [
    {
     "data": {
      "text/plain": "ID                0\nAge               0\nNationality       0\nOverall           0\nPotential         0\n                 ..\nGKHandling        0\nGKKicking         0\nGKPositioning     0\nGKReflexes        0\nRelease Clause    0\nLength: 81, dtype: int64"
     },
     "execution_count": 6,
     "metadata": {},
     "output_type": "execute_result"
    }
   ],
   "source": [
    "data = data.dropna()\n",
    "data.isnull().sum()"
   ]
  },
  {
   "cell_type": "code",
   "execution_count": 7,
   "metadata": {
    "pycharm": {
     "name": "#%%\n"
    }
   },
   "outputs": [
    {
     "name": "stdout",
     "output_type": "stream",
     "text": [
      "<class 'pandas.core.frame.DataFrame'>\n",
      "Int64Index: 500 entries, 0 to 588\n",
      "Data columns (total 81 columns):\n",
      " #   Column                    Non-Null Count  Dtype  \n",
      "---  ------                    --------------  -----  \n",
      " 0   ID                        500 non-null    int64  \n",
      " 1   Age                       500 non-null    int64  \n",
      " 2   Nationality               500 non-null    object \n",
      " 3   Overall                   500 non-null    int64  \n",
      " 4   Potential                 500 non-null    int64  \n",
      " 5   Club                      500 non-null    object \n",
      " 6   Value                     500 non-null    object \n",
      " 7   Wage                      500 non-null    object \n",
      " 8   Special                   500 non-null    int64  \n",
      " 9   Preferred Foot            500 non-null    object \n",
      " 10  International Reputation  500 non-null    float64\n",
      " 11  Weak Foot                 500 non-null    float64\n",
      " 12  Skill Moves               500 non-null    float64\n",
      " 13  Work Rate                 500 non-null    object \n",
      " 14  Body Type                 500 non-null    object \n",
      " 15  Real Face                 500 non-null    object \n",
      " 16  Position                  500 non-null    object \n",
      " 17  Jersey Number             500 non-null    float64\n",
      " 18  Height                    500 non-null    object \n",
      " 19  Weight                    500 non-null    object \n",
      " 20  LS                        500 non-null    object \n",
      " 21  ST                        500 non-null    object \n",
      " 22  RS                        500 non-null    object \n",
      " 23  LW                        500 non-null    object \n",
      " 24  LF                        500 non-null    object \n",
      " 25  CF                        500 non-null    object \n",
      " 26  RF                        500 non-null    object \n",
      " 27  RW                        500 non-null    object \n",
      " 28  LAM                       500 non-null    object \n",
      " 29  CAM                       500 non-null    object \n",
      " 30  RAM                       500 non-null    object \n",
      " 31  LM                        500 non-null    object \n",
      " 32  LCM                       500 non-null    object \n",
      " 33  CM                        500 non-null    object \n",
      " 34  RCM                       500 non-null    object \n",
      " 35  RM                        500 non-null    object \n",
      " 36  LWB                       500 non-null    object \n",
      " 37  LDM                       500 non-null    object \n",
      " 38  CDM                       500 non-null    object \n",
      " 39  RDM                       500 non-null    object \n",
      " 40  RWB                       500 non-null    object \n",
      " 41  LB                        500 non-null    object \n",
      " 42  LCB                       500 non-null    object \n",
      " 43  CB                        500 non-null    object \n",
      " 44  RCB                       500 non-null    object \n",
      " 45  RB                        500 non-null    object \n",
      " 46  Crossing                  500 non-null    float64\n",
      " 47  Finishing                 500 non-null    float64\n",
      " 48  HeadingAccuracy           500 non-null    float64\n",
      " 49  ShortPassing              500 non-null    float64\n",
      " 50  Volleys                   500 non-null    float64\n",
      " 51  Dribbling                 500 non-null    float64\n",
      " 52  Curve                     500 non-null    float64\n",
      " 53  FKAccuracy                500 non-null    float64\n",
      " 54  LongPassing               500 non-null    float64\n",
      " 55  BallControl               500 non-null    float64\n",
      " 56  Acceleration              500 non-null    float64\n",
      " 57  SprintSpeed               500 non-null    float64\n",
      " 58  Agility                   500 non-null    float64\n",
      " 59  Reactions                 500 non-null    float64\n",
      " 60  Balance                   500 non-null    float64\n",
      " 61  ShotPower                 500 non-null    float64\n",
      " 62  Jumping                   500 non-null    float64\n",
      " 63  Stamina                   500 non-null    float64\n",
      " 64  Strength                  500 non-null    float64\n",
      " 65  LongShots                 500 non-null    float64\n",
      " 66  Aggression                500 non-null    float64\n",
      " 67  Interceptions             500 non-null    float64\n",
      " 68  Positioning               500 non-null    float64\n",
      " 69  Vision                    500 non-null    float64\n",
      " 70  Penalties                 500 non-null    float64\n",
      " 71  Composure                 500 non-null    float64\n",
      " 72  Marking                   500 non-null    float64\n",
      " 73  StandingTackle            500 non-null    float64\n",
      " 74  SlidingTackle             500 non-null    float64\n",
      " 75  GKDiving                  500 non-null    float64\n",
      " 76  GKHandling                500 non-null    float64\n",
      " 77  GKKicking                 500 non-null    float64\n",
      " 78  GKPositioning             500 non-null    float64\n",
      " 79  GKReflexes                500 non-null    float64\n",
      " 80  Release Clause            500 non-null    object \n",
      "dtypes: float64(38), int64(5), object(38)\n",
      "memory usage: 320.3+ KB\n"
     ]
    }
   ],
   "source": [
    "data = data[:500]\n",
    "data.info()"
   ]
  },
  {
   "cell_type": "markdown",
   "metadata": {
    "pycharm": {
     "name": "#%% md\n"
    }
   },
   "source": [
    "Для решения задачи классификации выполним кодирование категориальных признаков"
   ]
  },
  {
   "cell_type": "code",
   "execution_count": 8,
   "metadata": {
    "pycharm": {
     "name": "#%%\n"
    }
   },
   "outputs": [
    {
     "name": "stdout",
     "output_type": "stream",
     "text": [
      "ID - 500\n",
      "Age - 20\n",
      "Nationality - 60\n",
      "Overall - 15\n",
      "Potential - 17\n",
      "Club - 102\n",
      "Value - 116\n",
      "Wage - 130\n",
      "Special - 315\n",
      "Preferred Foot - 2\n",
      "International Reputation - 5\n",
      "Weak Foot - 4\n",
      "Skill Moves - 4\n",
      "Work Rate - 8\n",
      "Body Type - 8\n",
      "Real Face - 2\n",
      "Position - 26\n",
      "Jersey Number - 40\n",
      "Height - 15\n",
      "Weight - 40\n",
      "LS - 71\n",
      "ST - 71\n",
      "RS - 71\n",
      "LW - 81\n",
      "LF - 77\n",
      "CF - 77\n",
      "RF - 77\n",
      "RW - 81\n",
      "LAM - 75\n",
      "CAM - 75\n",
      "RAM - 75\n",
      "LM - 74\n",
      "LCM - 65\n",
      "CM - 65\n",
      "RCM - 65\n",
      "RM - 74\n",
      "LWB - 67\n",
      "LDM - 76\n",
      "CDM - 76\n",
      "RDM - 76\n",
      "RWB - 67\n",
      "LB - 72\n",
      "LCB - 93\n",
      "CB - 93\n",
      "RCB - 93\n",
      "RB - 72\n",
      "Crossing - 65\n",
      "Finishing - 74\n",
      "HeadingAccuracy - 61\n",
      "ShortPassing - 34\n",
      "Volleys - 71\n",
      "Dribbling - 52\n",
      "Curve - 70\n",
      "FKAccuracy - 74\n",
      "LongPassing - 51\n",
      "BallControl - 42\n",
      "Acceleration - 59\n",
      "SprintSpeed - 55\n",
      "Agility - 61\n",
      "Reactions - 29\n",
      "Balance - 68\n",
      "ShotPower - 52\n",
      "Jumping - 64\n",
      "Stamina - 43\n",
      "Strength - 59\n",
      "LongShots - 73\n",
      "Aggression - 63\n",
      "Interceptions - 72\n",
      "Positioning - 72\n",
      "Vision - 61\n",
      "Penalties - 64\n",
      "Composure - 35\n",
      "Marking - 77\n",
      "StandingTackle - 78\n",
      "SlidingTackle - 80\n",
      "GKDiving - 18\n",
      "GKHandling - 17\n",
      "GKKicking - 18\n",
      "GKPositioning - 18\n",
      "GKReflexes - 19\n",
      "Release Clause - 320\n"
     ]
    }
   ],
   "source": [
    "for col in data.columns:\n",
    "    print('{} - {}'.format(col, len(data[col].unique())))"
   ]
  },
  {
   "cell_type": "code",
   "execution_count": 9,
   "metadata": {
    "pycharm": {
     "name": "#%%\n"
    }
   },
   "outputs": [
    {
     "data": {
      "text/plain": "ID                  int64\nAge                 int64\nNationality        object\nOverall             int64\nPotential           int64\n                   ...   \nGKHandling        float64\nGKKicking         float64\nGKPositioning     float64\nGKReflexes        float64\nRelease Clause     object\nLength: 81, dtype: object"
     },
     "execution_count": 9,
     "metadata": {},
     "output_type": "execute_result"
    }
   ],
   "source": [
    "data.dtypes"
   ]
  },
  {
   "cell_type": "code",
   "execution_count": 10,
   "metadata": {
    "pycharm": {
     "name": "#%%\n"
    }
   },
   "outputs": [
    {
     "data": {
      "text/plain": "       ID  Age Nationality  Overall  Potential                 Club  Value  \\\n0  158023   31   Argentina       94         94         FC Barcelona  110.5   \n1   20801   33    Portugal       94         94             Juventus   77.0   \n2  190871   26      Brazil       92         93  Paris Saint-Germain  118.5   \n4  192985   27     Belgium       91         92      Manchester City  102.0   \n5  183277   27     Belgium       91         91              Chelsea   93.0   \n\n    Wage  Special Preferred Foot  ...  Composure  Marking  StandingTackle  \\\n0  565.0     2202           Left  ...       96.0     33.0            28.0   \n1  405.0     2228          Right  ...       95.0     28.0            31.0   \n2  290.0     2143          Right  ...       94.0     27.0            24.0   \n4  355.0     2281          Right  ...       88.0     68.0            58.0   \n5  340.0     2142          Right  ...       91.0     34.0            27.0   \n\n  SlidingTackle GKDiving GKHandling GKKicking  GKPositioning  GKReflexes  \\\n0          26.0      6.0       11.0      15.0           14.0         8.0   \n1          23.0      7.0       11.0      15.0           14.0        11.0   \n2          33.0      9.0        9.0      15.0           15.0        11.0   \n4          51.0     15.0       13.0       5.0           10.0        13.0   \n5          22.0     11.0       12.0       6.0            8.0         8.0   \n\n   Release Clause  \n0           226.5  \n1           127.1  \n2           228.1  \n4           196.4  \n5           172.1  \n\n[5 rows x 81 columns]",
      "text/html": "<div>\n<style scoped>\n    .dataframe tbody tr th:only-of-type {\n        vertical-align: middle;\n    }\n\n    .dataframe tbody tr th {\n        vertical-align: top;\n    }\n\n    .dataframe thead th {\n        text-align: right;\n    }\n</style>\n<table border=\"1\" class=\"dataframe\">\n  <thead>\n    <tr style=\"text-align: right;\">\n      <th></th>\n      <th>ID</th>\n      <th>Age</th>\n      <th>Nationality</th>\n      <th>Overall</th>\n      <th>Potential</th>\n      <th>Club</th>\n      <th>Value</th>\n      <th>Wage</th>\n      <th>Special</th>\n      <th>Preferred Foot</th>\n      <th>...</th>\n      <th>Composure</th>\n      <th>Marking</th>\n      <th>StandingTackle</th>\n      <th>SlidingTackle</th>\n      <th>GKDiving</th>\n      <th>GKHandling</th>\n      <th>GKKicking</th>\n      <th>GKPositioning</th>\n      <th>GKReflexes</th>\n      <th>Release Clause</th>\n    </tr>\n  </thead>\n  <tbody>\n    <tr>\n      <th>0</th>\n      <td>158023</td>\n      <td>31</td>\n      <td>Argentina</td>\n      <td>94</td>\n      <td>94</td>\n      <td>FC Barcelona</td>\n      <td>110.5</td>\n      <td>565.0</td>\n      <td>2202</td>\n      <td>Left</td>\n      <td>...</td>\n      <td>96.0</td>\n      <td>33.0</td>\n      <td>28.0</td>\n      <td>26.0</td>\n      <td>6.0</td>\n      <td>11.0</td>\n      <td>15.0</td>\n      <td>14.0</td>\n      <td>8.0</td>\n      <td>226.5</td>\n    </tr>\n    <tr>\n      <th>1</th>\n      <td>20801</td>\n      <td>33</td>\n      <td>Portugal</td>\n      <td>94</td>\n      <td>94</td>\n      <td>Juventus</td>\n      <td>77.0</td>\n      <td>405.0</td>\n      <td>2228</td>\n      <td>Right</td>\n      <td>...</td>\n      <td>95.0</td>\n      <td>28.0</td>\n      <td>31.0</td>\n      <td>23.0</td>\n      <td>7.0</td>\n      <td>11.0</td>\n      <td>15.0</td>\n      <td>14.0</td>\n      <td>11.0</td>\n      <td>127.1</td>\n    </tr>\n    <tr>\n      <th>2</th>\n      <td>190871</td>\n      <td>26</td>\n      <td>Brazil</td>\n      <td>92</td>\n      <td>93</td>\n      <td>Paris Saint-Germain</td>\n      <td>118.5</td>\n      <td>290.0</td>\n      <td>2143</td>\n      <td>Right</td>\n      <td>...</td>\n      <td>94.0</td>\n      <td>27.0</td>\n      <td>24.0</td>\n      <td>33.0</td>\n      <td>9.0</td>\n      <td>9.0</td>\n      <td>15.0</td>\n      <td>15.0</td>\n      <td>11.0</td>\n      <td>228.1</td>\n    </tr>\n    <tr>\n      <th>4</th>\n      <td>192985</td>\n      <td>27</td>\n      <td>Belgium</td>\n      <td>91</td>\n      <td>92</td>\n      <td>Manchester City</td>\n      <td>102.0</td>\n      <td>355.0</td>\n      <td>2281</td>\n      <td>Right</td>\n      <td>...</td>\n      <td>88.0</td>\n      <td>68.0</td>\n      <td>58.0</td>\n      <td>51.0</td>\n      <td>15.0</td>\n      <td>13.0</td>\n      <td>5.0</td>\n      <td>10.0</td>\n      <td>13.0</td>\n      <td>196.4</td>\n    </tr>\n    <tr>\n      <th>5</th>\n      <td>183277</td>\n      <td>27</td>\n      <td>Belgium</td>\n      <td>91</td>\n      <td>91</td>\n      <td>Chelsea</td>\n      <td>93.0</td>\n      <td>340.0</td>\n      <td>2142</td>\n      <td>Right</td>\n      <td>...</td>\n      <td>91.0</td>\n      <td>34.0</td>\n      <td>27.0</td>\n      <td>22.0</td>\n      <td>11.0</td>\n      <td>12.0</td>\n      <td>6.0</td>\n      <td>8.0</td>\n      <td>8.0</td>\n      <td>172.1</td>\n    </tr>\n  </tbody>\n</table>\n<p>5 rows × 81 columns</p>\n</div>"
     },
     "execution_count": 10,
     "metadata": {},
     "output_type": "execute_result"
    }
   ],
   "source": [
    "def money_to_float(v):\n",
    "    return float(v[1:-1])\n",
    "money_cols = ['Value', 'Wage', 'Release Clause']\n",
    "for mc in money_cols:\n",
    "    data[mc] = data[mc].map(money_to_float)\n",
    "\n",
    "def height_to_float(h):\n",
    "    foot_and_inch = h.split('\\'')\n",
    "    return float(float(foot_and_inch[0]) + float(foot_and_inch[1]) / 12.)\n",
    "data['Height'] = data['Height'].map(height_to_float)\n",
    "\n",
    "def weight_to_float(w):\n",
    "    return float(w[:-3])\n",
    "data['Weight'] = data['Weight'].map(weight_to_float)\n",
    "\n",
    "def position_to_float(p):\n",
    "    nums = p.split('+')\n",
    "    return float(float(nums[0]) + 0.1 * float(nums[1]))\n",
    "\n",
    "pos_cols = ['LS', 'ST', 'RS', 'LW', 'LF', 'CF', 'RF', 'RW', 'LAM', 'CAM', 'RAM', 'LM', 'LCM', 'CM', 'RCM', 'RM', 'LWB', 'LDM', 'CDM', 'RDM', 'RWB', 'LB', 'LCB', 'CB', 'RCB', 'RB']\n",
    "for p in pos_cols:\n",
    "    data[p] = data[p].map(position_to_float)\n",
    "\n",
    "data.head()"
   ]
  },
  {
   "cell_type": "code",
   "execution_count": 11,
   "metadata": {
    "pycharm": {
     "name": "#%%\n"
    }
   },
   "outputs": [
    {
     "data": {
      "text/plain": "       ID  Age  Nationality  Overall  Potential  Club  Value   Wage  Special  \\\n0  158023   31            2       94         94    31  110.5  565.0     2202   \n1   20801   33           42       94         94    47   77.0  405.0     2228   \n2  190871   26            7       92         93    67  118.5  290.0     2143   \n4  192985   27            5       91         92    55  102.0  355.0     2281   \n5  183277   27            5       91         91    21   93.0  340.0     2142   \n\n   Preferred Foot  ...  Composure  Marking  StandingTackle  SlidingTackle  \\\n0               0  ...       96.0     33.0            28.0           26.0   \n1               1  ...       95.0     28.0            31.0           23.0   \n2               1  ...       94.0     27.0            24.0           33.0   \n4               1  ...       88.0     68.0            58.0           51.0   \n5               1  ...       91.0     34.0            27.0           22.0   \n\n   GKDiving  GKHandling  GKKicking  GKPositioning  GKReflexes  Release Clause  \n0       6.0        11.0       15.0           14.0         8.0           226.5  \n1       7.0        11.0       15.0           14.0        11.0           127.1  \n2       9.0         9.0       15.0           15.0        11.0           228.1  \n4      15.0        13.0        5.0           10.0        13.0           196.4  \n5      11.0        12.0        6.0            8.0         8.0           172.1  \n\n[5 rows x 81 columns]",
      "text/html": "<div>\n<style scoped>\n    .dataframe tbody tr th:only-of-type {\n        vertical-align: middle;\n    }\n\n    .dataframe tbody tr th {\n        vertical-align: top;\n    }\n\n    .dataframe thead th {\n        text-align: right;\n    }\n</style>\n<table border=\"1\" class=\"dataframe\">\n  <thead>\n    <tr style=\"text-align: right;\">\n      <th></th>\n      <th>ID</th>\n      <th>Age</th>\n      <th>Nationality</th>\n      <th>Overall</th>\n      <th>Potential</th>\n      <th>Club</th>\n      <th>Value</th>\n      <th>Wage</th>\n      <th>Special</th>\n      <th>Preferred Foot</th>\n      <th>...</th>\n      <th>Composure</th>\n      <th>Marking</th>\n      <th>StandingTackle</th>\n      <th>SlidingTackle</th>\n      <th>GKDiving</th>\n      <th>GKHandling</th>\n      <th>GKKicking</th>\n      <th>GKPositioning</th>\n      <th>GKReflexes</th>\n      <th>Release Clause</th>\n    </tr>\n  </thead>\n  <tbody>\n    <tr>\n      <th>0</th>\n      <td>158023</td>\n      <td>31</td>\n      <td>2</td>\n      <td>94</td>\n      <td>94</td>\n      <td>31</td>\n      <td>110.5</td>\n      <td>565.0</td>\n      <td>2202</td>\n      <td>0</td>\n      <td>...</td>\n      <td>96.0</td>\n      <td>33.0</td>\n      <td>28.0</td>\n      <td>26.0</td>\n      <td>6.0</td>\n      <td>11.0</td>\n      <td>15.0</td>\n      <td>14.0</td>\n      <td>8.0</td>\n      <td>226.5</td>\n    </tr>\n    <tr>\n      <th>1</th>\n      <td>20801</td>\n      <td>33</td>\n      <td>42</td>\n      <td>94</td>\n      <td>94</td>\n      <td>47</td>\n      <td>77.0</td>\n      <td>405.0</td>\n      <td>2228</td>\n      <td>1</td>\n      <td>...</td>\n      <td>95.0</td>\n      <td>28.0</td>\n      <td>31.0</td>\n      <td>23.0</td>\n      <td>7.0</td>\n      <td>11.0</td>\n      <td>15.0</td>\n      <td>14.0</td>\n      <td>11.0</td>\n      <td>127.1</td>\n    </tr>\n    <tr>\n      <th>2</th>\n      <td>190871</td>\n      <td>26</td>\n      <td>7</td>\n      <td>92</td>\n      <td>93</td>\n      <td>67</td>\n      <td>118.5</td>\n      <td>290.0</td>\n      <td>2143</td>\n      <td>1</td>\n      <td>...</td>\n      <td>94.0</td>\n      <td>27.0</td>\n      <td>24.0</td>\n      <td>33.0</td>\n      <td>9.0</td>\n      <td>9.0</td>\n      <td>15.0</td>\n      <td>15.0</td>\n      <td>11.0</td>\n      <td>228.1</td>\n    </tr>\n    <tr>\n      <th>4</th>\n      <td>192985</td>\n      <td>27</td>\n      <td>5</td>\n      <td>91</td>\n      <td>92</td>\n      <td>55</td>\n      <td>102.0</td>\n      <td>355.0</td>\n      <td>2281</td>\n      <td>1</td>\n      <td>...</td>\n      <td>88.0</td>\n      <td>68.0</td>\n      <td>58.0</td>\n      <td>51.0</td>\n      <td>15.0</td>\n      <td>13.0</td>\n      <td>5.0</td>\n      <td>10.0</td>\n      <td>13.0</td>\n      <td>196.4</td>\n    </tr>\n    <tr>\n      <th>5</th>\n      <td>183277</td>\n      <td>27</td>\n      <td>5</td>\n      <td>91</td>\n      <td>91</td>\n      <td>21</td>\n      <td>93.0</td>\n      <td>340.0</td>\n      <td>2142</td>\n      <td>1</td>\n      <td>...</td>\n      <td>91.0</td>\n      <td>34.0</td>\n      <td>27.0</td>\n      <td>22.0</td>\n      <td>11.0</td>\n      <td>12.0</td>\n      <td>6.0</td>\n      <td>8.0</td>\n      <td>8.0</td>\n      <td>172.1</td>\n    </tr>\n  </tbody>\n</table>\n<p>5 rows × 81 columns</p>\n</div>"
     },
     "execution_count": 11,
     "metadata": {},
     "output_type": "execute_result"
    }
   ],
   "source": [
    "from sklearn.preprocessing import LabelEncoder\n",
    "\n",
    "cols_to_encode = ['Nationality', 'Club', 'Preferred Foot', 'Work Rate', 'Body Type', 'Real Face', 'Position']\n",
    "le = LabelEncoder()\n",
    "for c in cols_to_encode:\n",
    "    data[c] = le.fit_transform(data[c])\n",
    "data.head()"
   ]
  },
  {
   "cell_type": "code",
   "execution_count": 12,
   "metadata": {
    "pycharm": {
     "name": "#%%\n"
    }
   },
   "outputs": [
    {
     "data": {
      "text/plain": "ID                  int64\nAge                 int64\nNationality         int64\nOverall             int64\nPotential           int64\n                   ...   \nGKHandling        float64\nGKKicking         float64\nGKPositioning     float64\nGKReflexes        float64\nRelease Clause    float64\nLength: 81, dtype: object"
     },
     "execution_count": 12,
     "metadata": {},
     "output_type": "execute_result"
    }
   ],
   "source": [
    "data.dtypes"
   ]
  },
  {
   "cell_type": "markdown",
   "metadata": {
    "pycharm": {
     "name": "#%% md\n"
    }
   },
   "source": [
    "Так как выполняется задача небинарной классификации и в тестовой выборке возможен дисбаланс классов, были выбраны следующие метрики:\n",
    " - precision\n",
    " - recall\n",
    " - f1-score\n",
    "\n",
    "Всем метрикам был задан уровень детализации average='weighted'."
   ]
  },
  {
   "cell_type": "code",
   "execution_count": 13,
   "metadata": {
    "pycharm": {
     "name": "#%%\n"
    }
   },
   "outputs": [],
   "source": [
    "def print_metrics(y_test, y_pred):\n",
    "    rep = classification_report(y_test, y_pred, output_dict=True)\n",
    "    print(\"weighted precision:\", rep['weighted avg']['precision'])\n",
    "    print(\"weighted recall:\", rep['weighted avg']['recall'])\n",
    "    print(\"weighted f1-score:\", rep['weighted avg']['f1-score'])\n",
    "    plt.figure(figsize=(4, 3))\n",
    "    plt.title('Матрица ошибок')\n",
    "    sns.heatmap(confusion_matrix(y_test, y_pred), annot=True, cmap=\"Blues\")"
   ]
  },
  {
   "cell_type": "code",
   "execution_count": 14,
   "metadata": {
    "pycharm": {
     "name": "#%%\n"
    }
   },
   "outputs": [],
   "source": [
    "x_train, x_test, y_train, y_test = train_test_split(data.drop(['International Reputation'], axis=1), data['International Reputation'], test_size=0.5, random_state=17)"
   ]
  },
  {
   "cell_type": "markdown",
   "metadata": {
    "pycharm": {
     "name": "#%% md\n"
    }
   },
   "source": [
    "SVC. Базовая модель."
   ]
  },
  {
   "cell_type": "code",
   "execution_count": 15,
   "metadata": {
    "pycharm": {
     "name": "#%%\n"
    }
   },
   "outputs": [
    {
     "data": {
      "text/plain": "                 ID           Age   Nationality       Overall     Potential  \\\ncount  2.500000e+02  2.500000e+02  2.500000e+02  2.500000e+02  2.500000e+02   \nmean  -2.842171e-16 -2.273737e-16  1.243450e-17 -5.329071e-18 -1.840306e-15   \nstd    1.002006e+00  1.002006e+00  1.002006e+00  1.002006e+00  1.002006e+00   \nmin   -6.012872e+00 -2.081673e+00 -1.442809e+00 -1.235431e+00 -1.566337e+00   \n25%   -3.981337e-01 -6.743764e-01 -1.109597e+00 -8.824507e-01 -9.587585e-01   \n50%    1.264703e-01 -1.114579e-01 -2.765661e-01 -1.764901e-01 -4.739110e-02   \n75%    5.636768e-01  7.329199e-01  1.084050e+00  5.294704e-01  5.601872e-01   \nmax    1.634767e+00  2.421675e+00  1.778242e+00  4.059273e+00  2.990500e+00   \n\n               Club         Value          Wage       Special  Preferred Foot  \\\ncount  2.500000e+02  2.500000e+02  2.500000e+02  2.500000e+02    2.500000e+02   \nmean   7.105427e-18  2.131628e-17  2.486900e-17  3.694822e-16    5.684342e-17   \nstd    1.002006e+00  1.002006e+00  1.002006e+00  1.002006e+00    1.002006e+00   \nmin   -1.744186e+00 -1.444239e+00 -1.163443e+00 -2.946546e+00   -1.741338e+00   \n25%   -9.381051e-01 -6.154865e-01 -6.908134e-01 -6.096423e-01    5.742710e-01   \n50%    1.280022e-01 -3.152140e-01 -2.499038e-01  1.667694e-01    5.742710e-01   \n75%    7.520650e-01  2.853309e-01  3.464344e-01  7.112161e-01    5.742710e-01   \nmax    1.688159e+00  5.570127e+00  5.992615e+00  2.014821e+00    5.742710e-01   \n\n       ...     Composure       Marking  StandingTackle  SlidingTackle  \\\ncount  ...  2.500000e+02  2.500000e+02    2.500000e+02   2.500000e+02   \nmean   ... -2.593481e-16  8.171241e-17    1.207923e-16   5.861978e-17   \nstd    ...  1.002006e+00  1.002006e+00    1.002006e+00   1.002006e+00   \nmin    ... -3.439873e+00 -2.166588e+00   -2.119106e+00  -1.928638e+00   \n25%    ... -6.752944e-01 -7.844435e-01   -9.127185e-01  -1.014198e+00   \n50%    ...  6.192656e-02  2.905574e-01    4.660103e-01   4.198113e-01   \n75%    ...  6.148423e-01  8.536531e-01    8.860918e-01   8.978142e-01   \nmax    ...  3.195116e+00  1.416749e+00    1.284631e+00   1.355034e+00   \n\n           GKDiving    GKHandling     GKKicking  GKPositioning    GKReflexes  \\\ncount  2.500000e+02  2.500000e+02  2.500000e+02   2.500000e+02  2.500000e+02   \nmean   4.973799e-17  6.394885e-17  3.375078e-17   4.973799e-17 -3.641532e-17   \nstd    1.002006e+00  1.002006e+00  1.002006e+00   1.002006e+00  1.002006e+00   \nmin   -2.275307e+00 -2.426649e+00 -2.184293e+00  -2.209137e+00 -2.161973e+00   \n25%   -7.320982e-01 -7.480042e-01 -6.995916e-01  -1.015654e+00 -6.555816e-01   \n50%    3.950614e-02 -7.654621e-02 -1.057108e-01  -1.205418e-01 -5.302498e-02   \n75%    8.111105e-01  5.949118e-01  7.851104e-01   7.745706e-01  8.508099e-01   \nmax    2.354319e+00  1.937828e+00  2.863693e+00   2.564795e+00  2.959758e+00   \n\n       Release Clause  \ncount    2.500000e+02  \nmean    -1.953993e-16  \nstd      1.002006e+00  \nmin     -1.418700e+00  \n25%     -5.968515e-01  \n50%     -2.867488e-01  \n75%      2.853373e-01  \nmax      5.461608e+00  \n\n[8 rows x 80 columns]",
      "text/html": "<div>\n<style scoped>\n    .dataframe tbody tr th:only-of-type {\n        vertical-align: middle;\n    }\n\n    .dataframe tbody tr th {\n        vertical-align: top;\n    }\n\n    .dataframe thead th {\n        text-align: right;\n    }\n</style>\n<table border=\"1\" class=\"dataframe\">\n  <thead>\n    <tr style=\"text-align: right;\">\n      <th></th>\n      <th>ID</th>\n      <th>Age</th>\n      <th>Nationality</th>\n      <th>Overall</th>\n      <th>Potential</th>\n      <th>Club</th>\n      <th>Value</th>\n      <th>Wage</th>\n      <th>Special</th>\n      <th>Preferred Foot</th>\n      <th>...</th>\n      <th>Composure</th>\n      <th>Marking</th>\n      <th>StandingTackle</th>\n      <th>SlidingTackle</th>\n      <th>GKDiving</th>\n      <th>GKHandling</th>\n      <th>GKKicking</th>\n      <th>GKPositioning</th>\n      <th>GKReflexes</th>\n      <th>Release Clause</th>\n    </tr>\n  </thead>\n  <tbody>\n    <tr>\n      <th>count</th>\n      <td>2.500000e+02</td>\n      <td>2.500000e+02</td>\n      <td>2.500000e+02</td>\n      <td>2.500000e+02</td>\n      <td>2.500000e+02</td>\n      <td>2.500000e+02</td>\n      <td>2.500000e+02</td>\n      <td>2.500000e+02</td>\n      <td>2.500000e+02</td>\n      <td>2.500000e+02</td>\n      <td>...</td>\n      <td>2.500000e+02</td>\n      <td>2.500000e+02</td>\n      <td>2.500000e+02</td>\n      <td>2.500000e+02</td>\n      <td>2.500000e+02</td>\n      <td>2.500000e+02</td>\n      <td>2.500000e+02</td>\n      <td>2.500000e+02</td>\n      <td>2.500000e+02</td>\n      <td>2.500000e+02</td>\n    </tr>\n    <tr>\n      <th>mean</th>\n      <td>-2.842171e-16</td>\n      <td>-2.273737e-16</td>\n      <td>1.243450e-17</td>\n      <td>-5.329071e-18</td>\n      <td>-1.840306e-15</td>\n      <td>7.105427e-18</td>\n      <td>2.131628e-17</td>\n      <td>2.486900e-17</td>\n      <td>3.694822e-16</td>\n      <td>5.684342e-17</td>\n      <td>...</td>\n      <td>-2.593481e-16</td>\n      <td>8.171241e-17</td>\n      <td>1.207923e-16</td>\n      <td>5.861978e-17</td>\n      <td>4.973799e-17</td>\n      <td>6.394885e-17</td>\n      <td>3.375078e-17</td>\n      <td>4.973799e-17</td>\n      <td>-3.641532e-17</td>\n      <td>-1.953993e-16</td>\n    </tr>\n    <tr>\n      <th>std</th>\n      <td>1.002006e+00</td>\n      <td>1.002006e+00</td>\n      <td>1.002006e+00</td>\n      <td>1.002006e+00</td>\n      <td>1.002006e+00</td>\n      <td>1.002006e+00</td>\n      <td>1.002006e+00</td>\n      <td>1.002006e+00</td>\n      <td>1.002006e+00</td>\n      <td>1.002006e+00</td>\n      <td>...</td>\n      <td>1.002006e+00</td>\n      <td>1.002006e+00</td>\n      <td>1.002006e+00</td>\n      <td>1.002006e+00</td>\n      <td>1.002006e+00</td>\n      <td>1.002006e+00</td>\n      <td>1.002006e+00</td>\n      <td>1.002006e+00</td>\n      <td>1.002006e+00</td>\n      <td>1.002006e+00</td>\n    </tr>\n    <tr>\n      <th>min</th>\n      <td>-6.012872e+00</td>\n      <td>-2.081673e+00</td>\n      <td>-1.442809e+00</td>\n      <td>-1.235431e+00</td>\n      <td>-1.566337e+00</td>\n      <td>-1.744186e+00</td>\n      <td>-1.444239e+00</td>\n      <td>-1.163443e+00</td>\n      <td>-2.946546e+00</td>\n      <td>-1.741338e+00</td>\n      <td>...</td>\n      <td>-3.439873e+00</td>\n      <td>-2.166588e+00</td>\n      <td>-2.119106e+00</td>\n      <td>-1.928638e+00</td>\n      <td>-2.275307e+00</td>\n      <td>-2.426649e+00</td>\n      <td>-2.184293e+00</td>\n      <td>-2.209137e+00</td>\n      <td>-2.161973e+00</td>\n      <td>-1.418700e+00</td>\n    </tr>\n    <tr>\n      <th>25%</th>\n      <td>-3.981337e-01</td>\n      <td>-6.743764e-01</td>\n      <td>-1.109597e+00</td>\n      <td>-8.824507e-01</td>\n      <td>-9.587585e-01</td>\n      <td>-9.381051e-01</td>\n      <td>-6.154865e-01</td>\n      <td>-6.908134e-01</td>\n      <td>-6.096423e-01</td>\n      <td>5.742710e-01</td>\n      <td>...</td>\n      <td>-6.752944e-01</td>\n      <td>-7.844435e-01</td>\n      <td>-9.127185e-01</td>\n      <td>-1.014198e+00</td>\n      <td>-7.320982e-01</td>\n      <td>-7.480042e-01</td>\n      <td>-6.995916e-01</td>\n      <td>-1.015654e+00</td>\n      <td>-6.555816e-01</td>\n      <td>-5.968515e-01</td>\n    </tr>\n    <tr>\n      <th>50%</th>\n      <td>1.264703e-01</td>\n      <td>-1.114579e-01</td>\n      <td>-2.765661e-01</td>\n      <td>-1.764901e-01</td>\n      <td>-4.739110e-02</td>\n      <td>1.280022e-01</td>\n      <td>-3.152140e-01</td>\n      <td>-2.499038e-01</td>\n      <td>1.667694e-01</td>\n      <td>5.742710e-01</td>\n      <td>...</td>\n      <td>6.192656e-02</td>\n      <td>2.905574e-01</td>\n      <td>4.660103e-01</td>\n      <td>4.198113e-01</td>\n      <td>3.950614e-02</td>\n      <td>-7.654621e-02</td>\n      <td>-1.057108e-01</td>\n      <td>-1.205418e-01</td>\n      <td>-5.302498e-02</td>\n      <td>-2.867488e-01</td>\n    </tr>\n    <tr>\n      <th>75%</th>\n      <td>5.636768e-01</td>\n      <td>7.329199e-01</td>\n      <td>1.084050e+00</td>\n      <td>5.294704e-01</td>\n      <td>5.601872e-01</td>\n      <td>7.520650e-01</td>\n      <td>2.853309e-01</td>\n      <td>3.464344e-01</td>\n      <td>7.112161e-01</td>\n      <td>5.742710e-01</td>\n      <td>...</td>\n      <td>6.148423e-01</td>\n      <td>8.536531e-01</td>\n      <td>8.860918e-01</td>\n      <td>8.978142e-01</td>\n      <td>8.111105e-01</td>\n      <td>5.949118e-01</td>\n      <td>7.851104e-01</td>\n      <td>7.745706e-01</td>\n      <td>8.508099e-01</td>\n      <td>2.853373e-01</td>\n    </tr>\n    <tr>\n      <th>max</th>\n      <td>1.634767e+00</td>\n      <td>2.421675e+00</td>\n      <td>1.778242e+00</td>\n      <td>4.059273e+00</td>\n      <td>2.990500e+00</td>\n      <td>1.688159e+00</td>\n      <td>5.570127e+00</td>\n      <td>5.992615e+00</td>\n      <td>2.014821e+00</td>\n      <td>5.742710e-01</td>\n      <td>...</td>\n      <td>3.195116e+00</td>\n      <td>1.416749e+00</td>\n      <td>1.284631e+00</td>\n      <td>1.355034e+00</td>\n      <td>2.354319e+00</td>\n      <td>1.937828e+00</td>\n      <td>2.863693e+00</td>\n      <td>2.564795e+00</td>\n      <td>2.959758e+00</td>\n      <td>5.461608e+00</td>\n    </tr>\n  </tbody>\n</table>\n<p>8 rows × 80 columns</p>\n</div>"
     },
     "execution_count": 15,
     "metadata": {},
     "output_type": "execute_result"
    }
   ],
   "source": [
    "from sklearn.preprocessing import StandardScaler\n",
    "\n",
    "scaler = StandardScaler().fit(x_train)\n",
    "x_train_scaled = pd.DataFrame(scaler.transform(x_train), columns=x_train.columns)\n",
    "x_test_scaled = pd.DataFrame(scaler.transform(x_test), columns=x_train.columns)\n",
    "x_train_scaled.describe()"
   ]
  },
  {
   "cell_type": "code",
   "execution_count": 16,
   "metadata": {
    "pycharm": {
     "name": "#%%\n"
    }
   },
   "outputs": [
    {
     "name": "stderr",
     "output_type": "stream",
     "text": [
      "/home/user/summer21/disc/venv/lib/python3.8/site-packages/sklearn/metrics/_classification.py:1318: UndefinedMetricWarning: Precision and F-score are ill-defined and being set to 0.0 in labels with no predicted samples. Use `zero_division` parameter to control this behavior.\n",
      "  _warn_prf(average, modifier, msg_start, len(result))\n",
      "/home/user/summer21/disc/venv/lib/python3.8/site-packages/sklearn/metrics/_classification.py:1318: UndefinedMetricWarning: Precision and F-score are ill-defined and being set to 0.0 in labels with no predicted samples. Use `zero_division` parameter to control this behavior.\n",
      "  _warn_prf(average, modifier, msg_start, len(result))\n",
      "/home/user/summer21/disc/venv/lib/python3.8/site-packages/sklearn/metrics/_classification.py:1318: UndefinedMetricWarning: Precision and F-score are ill-defined and being set to 0.0 in labels with no predicted samples. Use `zero_division` parameter to control this behavior.\n",
      "  _warn_prf(average, modifier, msg_start, len(result))\n"
     ]
    },
    {
     "name": "stdout",
     "output_type": "stream",
     "text": [
      "weighted precision: 0.40951981351981354\n",
      "weighted recall: 0.472\n",
      "weighted f1-score: 0.4051585430132882\n"
     ]
    },
    {
     "data": {
      "text/plain": "<Figure size 288x216 with 2 Axes>",
      "image/png": "[encoded data removed]"
     },
     "metadata": {},
     "output_type": "display_data"
    }
   ],
   "source": [
    "svm_model = SVC()\n",
    "svm_model.fit(x_train_scaled, y_train)\n",
    "y_pred_svm = svm_model.predict(x_test_scaled)\n",
    "print_metrics(y_test, y_pred_svm)"
   ]
  },
  {
   "cell_type": "markdown",
   "metadata": {
    "pycharm": {
     "name": "#%% md\n"
    }
   },
   "source": [
    "Подбор гиперпараметров"
   ]
  },
  {
   "cell_type": "code",
   "execution_count": 17,
   "metadata": {
    "pycharm": {
     "name": "#%%\n"
    }
   },
   "outputs": [
    {
     "name": "stderr",
     "output_type": "stream",
     "text": [
      "/home/user/summer21/disc/venv/lib/python3.8/site-packages/sklearn/model_selection/_split.py:676: UserWarning: The least populated class in y has only 3 members, which is less than n_splits=10.\n",
      "  warnings.warn(\n"
     ]
    },
    {
     "name": "stdout",
     "output_type": "stream",
     "text": [
      "{'C': 3.0}\n"
     ]
    }
   ],
   "source": [
    "params = {'C': np.concatenate([np.arange(0.1, 2, 0.03), np.arange(2, 20, 1)])}\n",
    "grid_cv = GridSearchCV(estimator=svm_model, param_grid=params, cv=10, n_jobs=-1, scoring='f1_macro')\n",
    "grid_cv.fit(x_train_scaled, y_train)\n",
    "print(grid_cv.best_params_)"
   ]
  },
  {
   "cell_type": "markdown",
   "metadata": {
    "pycharm": {
     "name": "#%% md\n"
    }
   },
   "source": [
    "Лучшая модель"
   ]
  },
  {
   "cell_type": "code",
   "execution_count": 18,
   "metadata": {
    "pycharm": {
     "name": "#%%\n"
    }
   },
   "outputs": [
    {
     "name": "stdout",
     "output_type": "stream",
     "text": [
      "weighted precision: 0.527274483378257\n",
      "weighted recall: 0.516\n",
      "weighted f1-score: 0.479651325406396\n"
     ]
    },
    {
     "name": "stderr",
     "output_type": "stream",
     "text": [
      "/home/user/summer21/disc/venv/lib/python3.8/site-packages/sklearn/metrics/_classification.py:1318: UndefinedMetricWarning: Precision and F-score are ill-defined and being set to 0.0 in labels with no predicted samples. Use `zero_division` parameter to control this behavior.\n",
      "  _warn_prf(average, modifier, msg_start, len(result))\n",
      "/home/user/summer21/disc/venv/lib/python3.8/site-packages/sklearn/metrics/_classification.py:1318: UndefinedMetricWarning: Precision and F-score are ill-defined and being set to 0.0 in labels with no predicted samples. Use `zero_division` parameter to control this behavior.\n",
      "  _warn_prf(average, modifier, msg_start, len(result))\n",
      "/home/user/summer21/disc/venv/lib/python3.8/site-packages/sklearn/metrics/_classification.py:1318: UndefinedMetricWarning: Precision and F-score are ill-defined and being set to 0.0 in labels with no predicted samples. Use `zero_division` parameter to control this behavior.\n",
      "  _warn_prf(average, modifier, msg_start, len(result))\n"
     ]
    },
    {
     "data": {
      "text/plain": "<Figure size 288x216 with 2 Axes>",
      "image/png": "[encoded data removed]"
     },
     "metadata": {},
     "output_type": "display_data"
    }
   ],
   "source": [
    "best_svm_model = grid_cv.best_estimator_\n",
    "best_svm_model.fit(x_train_scaled, y_train)\n",
    "y_pred_svm = best_svm_model.predict(x_test_scaled)\n",
    "print_metrics(y_test, y_pred_svm)"
   ]
  },
  {
   "cell_type": "markdown",
   "metadata": {
    "pycharm": {
     "name": "#%% md\n"
    }
   },
   "source": [
    "RandomForestClassifier. Базовая модель"
   ]
  },
  {
   "cell_type": "code",
   "execution_count": 19,
   "metadata": {
    "pycharm": {
     "name": "#%%\n"
    }
   },
   "outputs": [
    {
     "name": "stderr",
     "output_type": "stream",
     "text": [
      "/home/user/summer21/disc/venv/lib/python3.8/site-packages/sklearn/metrics/_classification.py:1318: UndefinedMetricWarning: Precision and F-score are ill-defined and being set to 0.0 in labels with no predicted samples. Use `zero_division` parameter to control this behavior.\n",
      "  _warn_prf(average, modifier, msg_start, len(result))\n",
      "/home/user/summer21/disc/venv/lib/python3.8/site-packages/sklearn/metrics/_classification.py:1318: UndefinedMetricWarning: Precision and F-score are ill-defined and being set to 0.0 in labels with no predicted samples. Use `zero_division` parameter to control this behavior.\n",
      "  _warn_prf(average, modifier, msg_start, len(result))\n",
      "/home/user/summer21/disc/venv/lib/python3.8/site-packages/sklearn/metrics/_classification.py:1318: UndefinedMetricWarning: Precision and F-score are ill-defined and being set to 0.0 in labels with no predicted samples. Use `zero_division` parameter to control this behavior.\n",
      "  _warn_prf(average, modifier, msg_start, len(result))\n"
     ]
    },
    {
     "name": "stdout",
     "output_type": "stream",
     "text": [
      "weighted precision: 0.5845401549225389\n",
      "weighted recall: 0.584\n",
      "weighted f1-score: 0.5477295317221876\n"
     ]
    },
    {
     "data": {
      "text/plain": "<Figure size 288x216 with 2 Axes>",
      "image/png": "[encoded data removed]"
     },
     "metadata": {},
     "output_type": "display_data"
    }
   ],
   "source": [
    "rfc_model = RandomForestClassifier()\n",
    "rfc_model.fit(x_train, y_train)\n",
    "y_pred_rfc = rfc_model.predict(x_test)\n",
    "print_metrics(y_test, y_pred_rfc)"
   ]
  },
  {
   "cell_type": "markdown",
   "metadata": {
    "pycharm": {
     "name": "#%% md\n"
    }
   },
   "source": [
    "Подбор гиперпараметров"
   ]
  },
  {
   "cell_type": "code",
   "execution_count": 20,
   "metadata": {
    "pycharm": {
     "name": "#%%\n"
    }
   },
   "outputs": [
    {
     "name": "stderr",
     "output_type": "stream",
     "text": [
      "/home/user/summer21/disc/venv/lib/python3.8/site-packages/sklearn/model_selection/_split.py:676: UserWarning: The least populated class in y has only 3 members, which is less than n_splits=10.\n",
      "  warnings.warn(\n"
     ]
    },
    {
     "name": "stdout",
     "output_type": "stream",
     "text": [
      "{'criterion': 'entropy', 'max_features': 3, 'min_samples_leaf': 2, 'n_estimators': 100}\n"
     ]
    }
   ],
   "source": [
    "params = {'n_estimators': [5, 10, 50, 100], 'max_features': [2, 3, 4], 'criterion': ['gini', 'entropy'], 'min_samples_leaf': [1, 2, 3, 4, 5]}\n",
    "grid_cv = GridSearchCV(estimator=rfc_model, param_grid=params, cv=10, n_jobs=-1, scoring='f1_weighted')\n",
    "grid_cv.fit(x_train, y_train)\n",
    "print(grid_cv.best_params_)"
   ]
  },
  {
   "cell_type": "markdown",
   "metadata": {
    "pycharm": {
     "name": "#%% md\n"
    }
   },
   "source": [
    "Лучшая модель"
   ]
  },
  {
   "cell_type": "code",
   "execution_count": 21,
   "metadata": {
    "pycharm": {
     "name": "#%%\n"
    }
   },
   "outputs": [
    {
     "name": "stderr",
     "output_type": "stream",
     "text": [
      "/home/user/summer21/disc/venv/lib/python3.8/site-packages/sklearn/metrics/_classification.py:1318: UndefinedMetricWarning: Precision and F-score are ill-defined and being set to 0.0 in labels with no predicted samples. Use `zero_division` parameter to control this behavior.\n",
      "  _warn_prf(average, modifier, msg_start, len(result))\n",
      "/home/user/summer21/disc/venv/lib/python3.8/site-packages/sklearn/metrics/_classification.py:1318: UndefinedMetricWarning: Precision and F-score are ill-defined and being set to 0.0 in labels with no predicted samples. Use `zero_division` parameter to control this behavior.\n",
      "  _warn_prf(average, modifier, msg_start, len(result))\n",
      "/home/user/summer21/disc/venv/lib/python3.8/site-packages/sklearn/metrics/_classification.py:1318: UndefinedMetricWarning: Precision and F-score are ill-defined and being set to 0.0 in labels with no predicted samples. Use `zero_division` parameter to control this behavior.\n",
      "  _warn_prf(average, modifier, msg_start, len(result))\n"
     ]
    },
    {
     "name": "stdout",
     "output_type": "stream",
     "text": [
      "weighted precision: 0.5586348600508906\n",
      "weighted recall: 0.568\n",
      "weighted f1-score: 0.5125000953652489\n"
     ]
    },
    {
     "data": {
      "text/plain": "<Figure size 288x216 with 2 Axes>",
      "image/png": "[encoded data removed]"
     },
     "metadata": {},
     "output_type": "display_data"
    }
   ],
   "source": [
    "best_rfc_model = grid_cv.best_estimator_\n",
    "best_rfc_model.fit(x_train, y_train)\n",
    "y_pred_rfc = best_rfc_model.predict(x_test)\n",
    "print_metrics(y_test, y_pred_rfc)"
   ]
  },
  {
   "cell_type": "markdown",
   "metadata": {
    "pycharm": {
     "name": "#%% md\n"
    }
   },
   "source": [
    "Сравнение результатов"
   ]
  },
  {
   "cell_type": "markdown",
   "metadata": {
    "pycharm": {
     "name": "#%% md\n"
    }
   },
   "source": [
    "Выведем лучшие результаты моделей"
   ]
  },
  {
   "cell_type": "code",
   "execution_count": 22,
   "metadata": {
    "pycharm": {
     "name": "#%%\n"
    }
   },
   "outputs": [
    {
     "name": "stdout",
     "output_type": "stream",
     "text": [
      "SVC result\n",
      "\n",
      "weighted precision: 0.527274483378257\n",
      "weighted recall: 0.516\n",
      "weighted f1-score: 0.479651325406396\n"
     ]
    },
    {
     "name": "stderr",
     "output_type": "stream",
     "text": [
      "/home/user/summer21/disc/venv/lib/python3.8/site-packages/sklearn/metrics/_classification.py:1318: UndefinedMetricWarning: Precision and F-score are ill-defined and being set to 0.0 in labels with no predicted samples. Use `zero_division` parameter to control this behavior.\n",
      "  _warn_prf(average, modifier, msg_start, len(result))\n",
      "/home/user/summer21/disc/venv/lib/python3.8/site-packages/sklearn/metrics/_classification.py:1318: UndefinedMetricWarning: Precision and F-score are ill-defined and being set to 0.0 in labels with no predicted samples. Use `zero_division` parameter to control this behavior.\n",
      "  _warn_prf(average, modifier, msg_start, len(result))\n",
      "/home/user/summer21/disc/venv/lib/python3.8/site-packages/sklearn/metrics/_classification.py:1318: UndefinedMetricWarning: Precision and F-score are ill-defined and being set to 0.0 in labels with no predicted samples. Use `zero_division` parameter to control this behavior.\n",
      "  _warn_prf(average, modifier, msg_start, len(result))\n"
     ]
    },
    {
     "data": {
      "text/plain": "<Figure size 288x216 with 2 Axes>",
      "image/png": "[encoded data removed]"
     },
     "metadata": {},
     "output_type": "display_data"
    }
   ],
   "source": [
    "print(\"SVC result\\n\")\n",
    "print_metrics(y_test, y_pred_svm)"
   ]
  },
  {
   "cell_type": "code",
   "execution_count": 23,
   "metadata": {
    "pycharm": {
     "name": "#%%\n"
    }
   },
   "outputs": [
    {
     "name": "stdout",
     "output_type": "stream",
     "text": [
      "RandomForestClassifier result\n",
      "\n",
      "weighted precision: 0.5586348600508906\n",
      "weighted recall: 0.568\n",
      "weighted f1-score: 0.5125000953652489\n"
     ]
    },
    {
     "name": "stderr",
     "output_type": "stream",
     "text": [
      "/home/user/summer21/disc/venv/lib/python3.8/site-packages/sklearn/metrics/_classification.py:1318: UndefinedMetricWarning: Precision and F-score are ill-defined and being set to 0.0 in labels with no predicted samples. Use `zero_division` parameter to control this behavior.\n",
      "  _warn_prf(average, modifier, msg_start, len(result))\n",
      "/home/user/summer21/disc/venv/lib/python3.8/site-packages/sklearn/metrics/_classification.py:1318: UndefinedMetricWarning: Precision and F-score are ill-defined and being set to 0.0 in labels with no predicted samples. Use `zero_division` parameter to control this behavior.\n",
      "  _warn_prf(average, modifier, msg_start, len(result))\n",
      "/home/user/summer21/disc/venv/lib/python3.8/site-packages/sklearn/metrics/_classification.py:1318: UndefinedMetricWarning: Precision and F-score are ill-defined and being set to 0.0 in labels with no predicted samples. Use `zero_division` parameter to control this behavior.\n",
      "  _warn_prf(average, modifier, msg_start, len(result))\n"
     ]
    },
    {
     "data": {
      "text/plain": "<Figure size 288x216 with 2 Axes>",
      "image/png": "[encoded data removed]"
     },
     "metadata": {},
     "output_type": "display_data"
    }
   ],
   "source": [
    "print(\"RandomForestClassifier result\\n\")\n",
    "print_metrics(y_test, y_pred_rfc)"
   ]
  },
  {
   "cell_type": "markdown",
   "metadata": {
    "pycharm": {
     "name": "#%% md\n"
    }
   },
   "source": [
    "Вывод: для метода случайного леса модель по умолчанию оказалась лучше модели с подобранными параметрами. Эта же модель показала лучшие результаты по сравнению с моделями SVM. Вывод: небинарную классификацию в условии дисбаланса класса лучше всего реализовал метод Случайного леса."
   ]
  },
  {
   "cell_type": "code",
   "execution_count": 23,
   "metadata": {
    "pycharm": {
     "name": "#%%\n"
    }
   },
   "outputs": [],
   "source": []
  }
 ],
 "metadata": {
  "kernelspec": {
   "display_name": "Python 3 (ipykernel)",
   "language": "python",
   "name": "python3"
  },
  "language_info": {
   "codemirror_mode": {
    "name": "ipython",
    "version": 2
   },
   "file_extension": ".py",
   "mimetype": "text/x-python",
   "name": "python",
   "nbconvert_exporter": "python",
   "pygments_lexer": "ipython2",
   "version": "2.7.6"
  }
 },
 "nbformat": 4,
 "nbformat_minor": 1
}